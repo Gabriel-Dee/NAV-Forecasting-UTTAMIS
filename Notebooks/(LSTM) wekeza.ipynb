{
 "cells": [
  {
   "cell_type": "code",
   "execution_count": 1,
   "id": "4863403f",
   "metadata": {},
   "outputs": [],
   "source": [
    "import math\n",
    "import pandas as pd\n",
    "import numpy as np\n",
    "from sklearn.preprocessing import MinMaxScaler\n",
    "from keras.models import Sequential\n",
    "from keras.layers import Dense, LSTM\n",
    "import seaborn as sns\n",
    "import matplotlib.pyplot as plt"
   ]
  },
  {
   "cell_type": "code",
   "execution_count": 111,
   "id": "d139c796",
   "metadata": {},
   "outputs": [
    {
     "data": {
      "text/html": [
       "<div>\n",
       "<style scoped>\n",
       "    .dataframe tbody tr th:only-of-type {\n",
       "        vertical-align: middle;\n",
       "    }\n",
       "\n",
       "    .dataframe tbody tr th {\n",
       "        vertical-align: top;\n",
       "    }\n",
       "\n",
       "    .dataframe thead th {\n",
       "        text-align: right;\n",
       "    }\n",
       "</style>\n",
       "<table border=\"1\" class=\"dataframe\">\n",
       "  <thead>\n",
       "    <tr style=\"text-align: right;\">\n",
       "      <th></th>\n",
       "      <th>Scheme Name</th>\n",
       "      <th>Net Asset Value</th>\n",
       "      <th>Outstanding Number of Units</th>\n",
       "      <th>Nav Per Unit</th>\n",
       "      <th>Sale Price per Unit</th>\n",
       "      <th>Repurchase Price/Unit</th>\n",
       "      <th>Date Valued</th>\n",
       "    </tr>\n",
       "  </thead>\n",
       "  <tbody>\n",
       "    <tr>\n",
       "      <th>0</th>\n",
       "      <td>Wekeza Maisha Fund</td>\n",
       "      <td>6.658728e+09</td>\n",
       "      <td>8978247.54</td>\n",
       "      <td>741.6512</td>\n",
       "      <td>741.6512</td>\n",
       "      <td>726.8182</td>\n",
       "      <td>12/30/2022</td>\n",
       "    </tr>\n",
       "    <tr>\n",
       "      <th>1</th>\n",
       "      <td>Wekeza Maisha Fund</td>\n",
       "      <td>6.640438e+09</td>\n",
       "      <td>8957835.83</td>\n",
       "      <td>741.2993</td>\n",
       "      <td>741.2993</td>\n",
       "      <td>726.4733</td>\n",
       "      <td>12/29/2022</td>\n",
       "    </tr>\n",
       "    <tr>\n",
       "      <th>2</th>\n",
       "      <td>Wekeza Maisha Fund</td>\n",
       "      <td>6.631795e+09</td>\n",
       "      <td>8948322.05</td>\n",
       "      <td>741.1216</td>\n",
       "      <td>741.1216</td>\n",
       "      <td>726.2992</td>\n",
       "      <td>12/28/2022</td>\n",
       "    </tr>\n",
       "    <tr>\n",
       "      <th>3</th>\n",
       "      <td>Wekeza Maisha Fund</td>\n",
       "      <td>6.598530e+09</td>\n",
       "      <td>8905299.56</td>\n",
       "      <td>740.9666</td>\n",
       "      <td>740.9666</td>\n",
       "      <td>726.1473</td>\n",
       "      <td>12/27/2022</td>\n",
       "    </tr>\n",
       "    <tr>\n",
       "      <th>4</th>\n",
       "      <td>Wekeza Maisha Fund</td>\n",
       "      <td>6.583067e+09</td>\n",
       "      <td>8892450.96</td>\n",
       "      <td>740.2984</td>\n",
       "      <td>740.2984</td>\n",
       "      <td>725.4924</td>\n",
       "      <td>12/23/2022</td>\n",
       "    </tr>\n",
       "  </tbody>\n",
       "</table>\n",
       "</div>"
      ],
      "text/plain": [
       "          Scheme Name  Net Asset Value  Outstanding Number of Units  \\\n",
       "0  Wekeza Maisha Fund     6.658728e+09                   8978247.54   \n",
       "1  Wekeza Maisha Fund     6.640438e+09                   8957835.83   \n",
       "2  Wekeza Maisha Fund     6.631795e+09                   8948322.05   \n",
       "3  Wekeza Maisha Fund     6.598530e+09                   8905299.56   \n",
       "4  Wekeza Maisha Fund     6.583067e+09                   8892450.96   \n",
       "\n",
       "   Nav Per Unit  Sale Price per Unit  Repurchase Price/Unit Date Valued  \n",
       "0      741.6512             741.6512               726.8182  12/30/2022  \n",
       "1      741.2993             741.2993               726.4733  12/29/2022  \n",
       "2      741.1216             741.1216               726.2992  12/28/2022  \n",
       "3      740.9666             740.9666               726.1473  12/27/2022  \n",
       "4      740.2984             740.2984               725.4924  12/23/2022  "
      ]
     },
     "execution_count": 111,
     "metadata": {},
     "output_type": "execute_result"
    }
   ],
   "source": [
    "data=pd.read_csv('Wekeza_data.csv')\n",
    "data.head()"
   ]
  },
  {
   "cell_type": "code",
   "execution_count": 112,
   "id": "bc1a320b",
   "metadata": {},
   "outputs": [
    {
     "data": {
      "text/plain": [
       "(1669, 7)"
      ]
     },
     "execution_count": 112,
     "metadata": {},
     "output_type": "execute_result"
    }
   ],
   "source": [
    "data.shape"
   ]
  },
  {
   "cell_type": "code",
   "execution_count": 113,
   "id": "f23a93ef",
   "metadata": {},
   "outputs": [
    {
     "data": {
      "text/html": [
       "<div>\n",
       "<style scoped>\n",
       "    .dataframe tbody tr th:only-of-type {\n",
       "        vertical-align: middle;\n",
       "    }\n",
       "\n",
       "    .dataframe tbody tr th {\n",
       "        vertical-align: top;\n",
       "    }\n",
       "\n",
       "    .dataframe thead th {\n",
       "        text-align: right;\n",
       "    }\n",
       "</style>\n",
       "<table border=\"1\" class=\"dataframe\">\n",
       "  <thead>\n",
       "    <tr style=\"text-align: right;\">\n",
       "      <th></th>\n",
       "      <th>Scheme Name</th>\n",
       "      <th>Net Asset Value</th>\n",
       "      <th>Outstanding Number of Units</th>\n",
       "      <th>Nav Per Unit</th>\n",
       "      <th>Sale Price per Unit</th>\n",
       "      <th>Repurchase Price/Unit</th>\n",
       "      <th>Date Valued</th>\n",
       "    </tr>\n",
       "  </thead>\n",
       "  <tbody>\n",
       "    <tr>\n",
       "      <th>0</th>\n",
       "      <td>Wekeza Maisha Fund</td>\n",
       "      <td>6.658728e+09</td>\n",
       "      <td>8978247.54</td>\n",
       "      <td>741.6512</td>\n",
       "      <td>741.6512</td>\n",
       "      <td>726.8182</td>\n",
       "      <td>12/30/2022</td>\n",
       "    </tr>\n",
       "    <tr>\n",
       "      <th>1</th>\n",
       "      <td>Wekeza Maisha Fund</td>\n",
       "      <td>6.640438e+09</td>\n",
       "      <td>8957835.83</td>\n",
       "      <td>741.2993</td>\n",
       "      <td>741.2993</td>\n",
       "      <td>726.4733</td>\n",
       "      <td>12/29/2022</td>\n",
       "    </tr>\n",
       "    <tr>\n",
       "      <th>2</th>\n",
       "      <td>Wekeza Maisha Fund</td>\n",
       "      <td>6.631795e+09</td>\n",
       "      <td>8948322.05</td>\n",
       "      <td>741.1216</td>\n",
       "      <td>741.1216</td>\n",
       "      <td>726.2992</td>\n",
       "      <td>12/28/2022</td>\n",
       "    </tr>\n",
       "    <tr>\n",
       "      <th>3</th>\n",
       "      <td>Wekeza Maisha Fund</td>\n",
       "      <td>6.598530e+09</td>\n",
       "      <td>8905299.56</td>\n",
       "      <td>740.9666</td>\n",
       "      <td>740.9666</td>\n",
       "      <td>726.1473</td>\n",
       "      <td>12/27/2022</td>\n",
       "    </tr>\n",
       "    <tr>\n",
       "      <th>4</th>\n",
       "      <td>Wekeza Maisha Fund</td>\n",
       "      <td>6.583067e+09</td>\n",
       "      <td>8892450.96</td>\n",
       "      <td>740.2984</td>\n",
       "      <td>740.2984</td>\n",
       "      <td>725.4924</td>\n",
       "      <td>12/23/2022</td>\n",
       "    </tr>\n",
       "  </tbody>\n",
       "</table>\n",
       "</div>"
      ],
      "text/plain": [
       "          Scheme Name  Net Asset Value  Outstanding Number of Units  \\\n",
       "0  Wekeza Maisha Fund     6.658728e+09                   8978247.54   \n",
       "1  Wekeza Maisha Fund     6.640438e+09                   8957835.83   \n",
       "2  Wekeza Maisha Fund     6.631795e+09                   8948322.05   \n",
       "3  Wekeza Maisha Fund     6.598530e+09                   8905299.56   \n",
       "4  Wekeza Maisha Fund     6.583067e+09                   8892450.96   \n",
       "\n",
       "   Nav Per Unit  Sale Price per Unit  Repurchase Price/Unit Date Valued  \n",
       "0      741.6512             741.6512               726.8182  12/30/2022  \n",
       "1      741.2993             741.2993               726.4733  12/29/2022  \n",
       "2      741.1216             741.1216               726.2992  12/28/2022  \n",
       "3      740.9666             740.9666               726.1473  12/27/2022  \n",
       "4      740.2984             740.2984               725.4924  12/23/2022  "
      ]
     },
     "execution_count": 113,
     "metadata": {},
     "output_type": "execute_result"
    }
   ],
   "source": [
    "data.head()"
   ]
  },
  {
   "cell_type": "code",
   "execution_count": 114,
   "id": "81853931",
   "metadata": {},
   "outputs": [],
   "source": [
    "data['Net Asset Value'] = np.sqrt(data['Net Asset Value'])\n",
    "data['Outstanding Number of Units'] = np.sqrt(data['Outstanding Number of Units'])"
   ]
  },
  {
   "cell_type": "code",
   "execution_count": 115,
   "id": "45aa9c21",
   "metadata": {},
   "outputs": [
    {
     "data": {
      "image/png": "[encoded data removed]",
      "text/plain": [
       "<Figure size 1200x600 with 1 Axes>"
      ]
     },
     "metadata": {},
     "output_type": "display_data"
    }
   ],
   "source": [
    "# Time series plot of NAV\n",
    "plt.figure(figsize=(12, 6))\n",
    "plt.plot(data['Date Valued'], data['Net Asset Value'])\n",
    "plt.xlabel('Date Valued')\n",
    "plt.ylabel('Net Asset Value')\n",
    "plt.title('Net Asset Value Over Time')\n",
    "plt.xticks(rotation=45)\n",
    "plt.grid(True)\n",
    "plt.show()\n"
   ]
  },
  {
   "cell_type": "code",
   "execution_count": 116,
   "id": "9feb5d36",
   "metadata": {},
   "outputs": [],
   "source": [
    "data.set_index('Date Valued', inplace=True)"
   ]
  },
  {
   "cell_type": "code",
   "execution_count": 117,
   "id": "10f9db25",
   "metadata": {},
   "outputs": [
    {
     "data": {
      "text/html": [
       "<div>\n",
       "<style scoped>\n",
       "    .dataframe tbody tr th:only-of-type {\n",
       "        vertical-align: middle;\n",
       "    }\n",
       "\n",
       "    .dataframe tbody tr th {\n",
       "        vertical-align: top;\n",
       "    }\n",
       "\n",
       "    .dataframe thead th {\n",
       "        text-align: right;\n",
       "    }\n",
       "</style>\n",
       "<table border=\"1\" class=\"dataframe\">\n",
       "  <thead>\n",
       "    <tr style=\"text-align: right;\">\n",
       "      <th></th>\n",
       "      <th>Scheme Name</th>\n",
       "      <th>Net Asset Value</th>\n",
       "      <th>Outstanding Number of Units</th>\n",
       "      <th>Nav Per Unit</th>\n",
       "      <th>Sale Price per Unit</th>\n",
       "      <th>Repurchase Price/Unit</th>\n",
       "    </tr>\n",
       "    <tr>\n",
       "      <th>Date Valued</th>\n",
       "      <th></th>\n",
       "      <th></th>\n",
       "      <th></th>\n",
       "      <th></th>\n",
       "      <th></th>\n",
       "      <th></th>\n",
       "    </tr>\n",
       "  </thead>\n",
       "  <tbody>\n",
       "    <tr>\n",
       "      <th>12/30/2022</th>\n",
       "      <td>Wekeza Maisha Fund</td>\n",
       "      <td>81601.029013</td>\n",
       "      <td>2996.372397</td>\n",
       "      <td>741.6512</td>\n",
       "      <td>741.6512</td>\n",
       "      <td>726.8182</td>\n",
       "    </tr>\n",
       "    <tr>\n",
       "      <th>12/29/2022</th>\n",
       "      <td>Wekeza Maisha Fund</td>\n",
       "      <td>81488.881027</td>\n",
       "      <td>2992.964388</td>\n",
       "      <td>741.2993</td>\n",
       "      <td>741.2993</td>\n",
       "      <td>726.4733</td>\n",
       "    </tr>\n",
       "    <tr>\n",
       "      <th>12/28/2022</th>\n",
       "      <td>Wekeza Maisha Fund</td>\n",
       "      <td>81435.834250</td>\n",
       "      <td>2991.374609</td>\n",
       "      <td>741.1216</td>\n",
       "      <td>741.1216</td>\n",
       "      <td>726.2992</td>\n",
       "    </tr>\n",
       "    <tr>\n",
       "      <th>12/27/2022</th>\n",
       "      <td>Wekeza Maisha Fund</td>\n",
       "      <td>81231.335961</td>\n",
       "      <td>2984.174854</td>\n",
       "      <td>740.9666</td>\n",
       "      <td>740.9666</td>\n",
       "      <td>726.1473</td>\n",
       "    </tr>\n",
       "    <tr>\n",
       "      <th>12/23/2022</th>\n",
       "      <td>Wekeza Maisha Fund</td>\n",
       "      <td>81136.101780</td>\n",
       "      <td>2982.021288</td>\n",
       "      <td>740.2984</td>\n",
       "      <td>740.2984</td>\n",
       "      <td>725.4924</td>\n",
       "    </tr>\n",
       "  </tbody>\n",
       "</table>\n",
       "</div>"
      ],
      "text/plain": [
       "                    Scheme Name  Net Asset Value  Outstanding Number of Units  \\\n",
       "Date Valued                                                                     \n",
       "12/30/2022   Wekeza Maisha Fund     81601.029013                  2996.372397   \n",
       "12/29/2022   Wekeza Maisha Fund     81488.881027                  2992.964388   \n",
       "12/28/2022   Wekeza Maisha Fund     81435.834250                  2991.374609   \n",
       "12/27/2022   Wekeza Maisha Fund     81231.335961                  2984.174854   \n",
       "12/23/2022   Wekeza Maisha Fund     81136.101780                  2982.021288   \n",
       "\n",
       "             Nav Per Unit  Sale Price per Unit  Repurchase Price/Unit  \n",
       "Date Valued                                                            \n",
       "12/30/2022       741.6512             741.6512               726.8182  \n",
       "12/29/2022       741.2993             741.2993               726.4733  \n",
       "12/28/2022       741.1216             741.1216               726.2992  \n",
       "12/27/2022       740.9666             740.9666               726.1473  \n",
       "12/23/2022       740.2984             740.2984               725.4924  "
      ]
     },
     "execution_count": 117,
     "metadata": {},
     "output_type": "execute_result"
    }
   ],
   "source": [
    "data.head()"
   ]
  },
  {
   "cell_type": "code",
   "execution_count": 118,
   "id": "9b0da8f1",
   "metadata": {},
   "outputs": [
    {
     "data": {
      "text/plain": [
       "1336"
      ]
     },
     "execution_count": 118,
     "metadata": {},
     "output_type": "execute_result"
    }
   ],
   "source": [
    "df=data.filter(['Net Asset Value'])\n",
    "dataset=df.values\n",
    "training_data_len=math.ceil(len(dataset)*.8)\n",
    "training_data_len"
   ]
  },
  {
   "cell_type": "code",
   "execution_count": 119,
   "id": "72272a68",
   "metadata": {},
   "outputs": [
    {
     "data": {
      "text/html": [
       "<div>\n",
       "<style scoped>\n",
       "    .dataframe tbody tr th:only-of-type {\n",
       "        vertical-align: middle;\n",
       "    }\n",
       "\n",
       "    .dataframe tbody tr th {\n",
       "        vertical-align: top;\n",
       "    }\n",
       "\n",
       "    .dataframe thead th {\n",
       "        text-align: right;\n",
       "    }\n",
       "</style>\n",
       "<table border=\"1\" class=\"dataframe\">\n",
       "  <thead>\n",
       "    <tr style=\"text-align: right;\">\n",
       "      <th></th>\n",
       "      <th>Net Asset Value</th>\n",
       "    </tr>\n",
       "    <tr>\n",
       "      <th>Date Valued</th>\n",
       "      <th></th>\n",
       "    </tr>\n",
       "  </thead>\n",
       "  <tbody>\n",
       "    <tr>\n",
       "      <th>12/30/2022</th>\n",
       "      <td>81601.029013</td>\n",
       "    </tr>\n",
       "    <tr>\n",
       "      <th>12/29/2022</th>\n",
       "      <td>81488.881027</td>\n",
       "    </tr>\n",
       "    <tr>\n",
       "      <th>12/28/2022</th>\n",
       "      <td>81435.834250</td>\n",
       "    </tr>\n",
       "    <tr>\n",
       "      <th>12/27/2022</th>\n",
       "      <td>81231.335961</td>\n",
       "    </tr>\n",
       "    <tr>\n",
       "      <th>12/23/2022</th>\n",
       "      <td>81136.101780</td>\n",
       "    </tr>\n",
       "  </tbody>\n",
       "</table>\n",
       "</div>"
      ],
      "text/plain": [
       "             Net Asset Value\n",
       "Date Valued                 \n",
       "12/30/2022      81601.029013\n",
       "12/29/2022      81488.881027\n",
       "12/28/2022      81435.834250\n",
       "12/27/2022      81231.335961\n",
       "12/23/2022      81136.101780"
      ]
     },
     "execution_count": 119,
     "metadata": {},
     "output_type": "execute_result"
    }
   ],
   "source": [
    "df.head()"
   ]
  },
  {
   "cell_type": "code",
   "execution_count": 120,
   "id": "e0ccf1e9",
   "metadata": {},
   "outputs": [
    {
     "data": {
      "text/plain": [
       "array([[0.1109032 ],\n",
       "       [0.11064318],\n",
       "       [0.11052019],\n",
       "       ...,\n",
       "       [0.06181217],\n",
       "       [0.06180881],\n",
       "       [0.06226015]])"
      ]
     },
     "execution_count": 120,
     "metadata": {},
     "output_type": "execute_result"
    }
   ],
   "source": [
    "## scale the data\n",
    "scaler= MinMaxScaler(feature_range=(0,1))\n",
    "scaled_data=scaler.fit_transform(dataset)\n",
    "scaled_data"
   ]
  },
  {
   "cell_type": "code",
   "execution_count": 121,
   "id": "2f962860",
   "metadata": {},
   "outputs": [
    {
     "name": "stdout",
     "output_type": "stream",
     "text": [
      "[[0.1109032 ]\n",
      " [0.11064318]\n",
      " [0.11052019]\n",
      " [0.11004604]\n",
      " [0.10982524]]\n"
     ]
    }
   ],
   "source": [
    "#create the training set\n",
    "#create the scaled training set\n",
    "train_data=scaled_data[0:training_data_len, :]\n",
    "print(train_data[:5])"
   ]
  },
  {
   "cell_type": "code",
   "execution_count": 122,
   "id": "aeb8953d",
   "metadata": {},
   "outputs": [
    {
     "name": "stdout",
     "output_type": "stream",
     "text": [
      "[array([0.1109032 , 0.11064318, 0.11052019, 0.11004604, 0.10982524,\n",
      "       0.10974845, 0.10962621, 0.10926414, 0.10911212, 0.10901165,\n",
      "       0.10897359, 0.10869054, 0.10801125, 0.10779488, 0.10762783,\n",
      "       0.10679353, 0.10664405, 0.1066047 , 0.10660634, 0.10586738,\n",
      "       0.10570385, 0.10537238, 0.10525716, 0.10505408, 0.10496208,\n",
      "       0.10486301, 0.1048057 , 0.10325557, 0.10292106, 0.10271594,\n",
      "       0.09973251, 0.0996807 , 0.09957185, 0.09921736, 0.09899495,\n",
      "       0.09882359, 0.09863916, 0.09845437, 0.09833078, 0.09832346,\n",
      "       0.09848259, 0.09827845, 0.09814604, 0.09784771, 0.09785233,\n",
      "       0.09779631, 0.09740801, 0.09723785, 0.09706797, 0.09669015,\n",
      "       0.09648814, 0.09645361, 0.09627416, 0.0961225 , 0.09630092,\n",
      "       0.0962621 , 0.09615954, 0.09602566, 0.09573838, 0.09558915])]\n",
      "[0.09546991139901516]\n"
     ]
    }
   ],
   "source": [
    "#split the data into x_train and y_train\n",
    "x_train=[]\n",
    "y_train=[]\n",
    "for i in range(60,len(train_data)):\n",
    "    x_train.append(train_data[i-60:i,0])\n",
    "    y_train.append(train_data[i,0])\n",
    "    if i<=60:\n",
    "        print(x_train)\n",
    "        print(y_train)"
   ]
  },
  {
   "cell_type": "code",
   "execution_count": 123,
   "id": "3b71d2ba",
   "metadata": {},
   "outputs": [],
   "source": [
    "#convert the x_train and y_train into numpy array\n",
    "x_train,y_train=np.array(x_train),np.array(y_train)"
   ]
  },
  {
   "cell_type": "code",
   "execution_count": 124,
   "id": "9bde4dd1",
   "metadata": {},
   "outputs": [
    {
     "data": {
      "text/plain": [
       "(1276, 60, 1)"
      ]
     },
     "execution_count": 124,
     "metadata": {},
     "output_type": "execute_result"
    }
   ],
   "source": [
    "#reshape the data\n",
    "x_train=np.reshape(x_train,(x_train.shape[0],x_train.shape[1],1))\n",
    "x_train.shape"
   ]
  },
  {
   "cell_type": "code",
   "execution_count": 125,
   "id": "c7d045e0",
   "metadata": {},
   "outputs": [],
   "source": [
    "#buld LSTM model\n",
    "model=Sequential()\n",
    "model.add(LSTM(units=50, return_sequences=True, input_shape=(60, 1)))\n",
    "model.add(LSTM(50,return_sequences=False))\n",
    "model.add(Dense(25))\n",
    "model.add(Dense(1))"
   ]
  },
  {
   "cell_type": "code",
   "execution_count": 126,
   "id": "43c68f4c",
   "metadata": {},
   "outputs": [],
   "source": [
    "#complite the model\n",
    "model.compile(loss='mean_squared_error', optimizer='adam')"
   ]
  },
  {
   "cell_type": "code",
   "execution_count": 127,
   "id": "4e349df0",
   "metadata": {},
   "outputs": [
    {
     "name": "stdout",
     "output_type": "stream",
     "text": [
      "Epoch 1/2\n",
      "1276/1276 [==============================] - 52s 37ms/step - loss: 9.7004e-04\n",
      "Epoch 2/2\n",
      "1276/1276 [==============================] - 54s 42ms/step - loss: 9.2760e-04\n"
     ]
    },
    {
     "data": {
      "text/plain": [
       "<keras.src.callbacks.History at 0x26fd4db6cd0>"
      ]
     },
     "execution_count": 127,
     "metadata": {},
     "output_type": "execute_result"
    }
   ],
   "source": [
    "#train the model\n",
    "model.fit(x_train, y_train, batch_size=1, epochs=2)"
   ]
  },
  {
   "cell_type": "code",
   "execution_count": 128,
   "id": "cd4f5fd8",
   "metadata": {},
   "outputs": [],
   "source": [
    "# #create the testing dataset\n",
    "test_data=scaled_data[training_data_len-60:,:]\n",
    "x_test=[]\n",
    "y_test=dataset[training_data_len:,:]\n",
    "for i in range(60,len(test_data)):\n",
    "    x_test.append(test_data[i-60:i,0])"
   ]
  },
  {
   "cell_type": "code",
   "execution_count": 129,
   "id": "49485650",
   "metadata": {},
   "outputs": [],
   "source": [
    "#convert the data to numpy array\n",
    "x_test=np.array(x_test)"
   ]
  },
  {
   "cell_type": "code",
   "execution_count": 130,
   "id": "3be917f8",
   "metadata": {},
   "outputs": [
    {
     "data": {
      "text/plain": [
       "(333, 60, 1)"
      ]
     },
     "execution_count": 130,
     "metadata": {},
     "output_type": "execute_result"
    }
   ],
   "source": [
    "#reshape the data\n",
    "x_test=np.reshape(x_test,(x_test.shape[0],x_test.shape[1],1))\n",
    "x_test.shape"
   ]
  },
  {
   "cell_type": "code",
   "execution_count": 131,
   "id": "1b455f1e",
   "metadata": {},
   "outputs": [
    {
     "name": "stdout",
     "output_type": "stream",
     "text": [
      "11/11 [==============================] - 1s 21ms/step\n"
     ]
    },
    {
     "data": {
      "text/plain": [
       "array([[40484.586],\n",
       "       [40510.61 ],\n",
       "       [40533.605],\n",
       "       [40553.73 ],\n",
       "       [40571.438],\n",
       "       [40586.625],\n",
       "       [40599.797],\n",
       "       [40611.15 ],\n",
       "       [40621.03 ],\n",
       "       [40648.61 ],\n",
       "       [40684.695],\n",
       "       [40724.043],\n",
       "       [40763.598],\n",
       "       [40801.387],\n",
       "       [40836.605],\n",
       "       [40868.234],\n",
       "       [40896.543],\n",
       "       [40921.63 ],\n",
       "       [40943.875],\n",
       "       [40963.324],\n",
       "       [40980.402],\n",
       "       [40986.25 ],\n",
       "       [40985.695],\n",
       "       [40981.36 ],\n",
       "       [40975.09 ],\n",
       "       [40967.54 ],\n",
       "       [40959.633],\n",
       "       [40951.69 ],\n",
       "       [40944.082],\n",
       "       [40936.824],\n",
       "       [40930.086],\n",
       "       [40923.766],\n",
       "       [40917.953],\n",
       "       [40932.242],\n",
       "       [40956.93 ],\n",
       "       [40986.152],\n",
       "       [41016.71 ],\n",
       "       [41046.582],\n",
       "       [41074.793],\n",
       "       [41100.715],\n",
       "       [41124.27 ],\n",
       "       [41145.316],\n",
       "       [41164.086],\n",
       "       [41182.43 ],\n",
       "       [41199.754],\n",
       "       [41215.137],\n",
       "       [41228.906],\n",
       "       [41339.81 ],\n",
       "       [41499.277],\n",
       "       [41693.383],\n",
       "       [41898.793],\n",
       "       [42101.91 ],\n",
       "       [42295.254],\n",
       "       [42474.883],\n",
       "       [42639.355],\n",
       "       [42788.082],\n",
       "       [42921.84 ],\n",
       "       [43044.773],\n",
       "       [43156.56 ],\n",
       "       [43253.49 ],\n",
       "       [43338.17 ],\n",
       "       [43412.285],\n",
       "       [43477.46 ],\n",
       "       [43545.715],\n",
       "       [43612.867],\n",
       "       [43794.65 ],\n",
       "       [44032.57 ],\n",
       "       [44293.113],\n",
       "       [44555.855],\n",
       "       [44808.79 ],\n",
       "       [45045.824],\n",
       "       [45264.023],\n",
       "       [45462.707],\n",
       "       [45641.723],\n",
       "       [45802.4  ],\n",
       "       [45946.008],\n",
       "       [46074.2  ],\n",
       "       [46188.336],\n",
       "       [46289.977],\n",
       "       [46533.83 ],\n",
       "       [46847.81 ],\n",
       "       [47189.914],\n",
       "       [47534.297],\n",
       "       [47862.47 ],\n",
       "       [48168.2  ],\n",
       "       [48451.85 ],\n",
       "       [48711.65 ],\n",
       "       [48942.85 ],\n",
       "       [49148.66 ],\n",
       "       [49702.9  ],\n",
       "       [50434.01 ],\n",
       "       [51239.68 ],\n",
       "       [52056.496],\n",
       "       [52847.184],\n",
       "       [53591.977],\n",
       "       [54281.176],\n",
       "       [54911.957],\n",
       "       [55484.438],\n",
       "       [56001.652],\n",
       "       [56467.33 ],\n",
       "       [56885.832],\n",
       "       [57261.285],\n",
       "       [57597.938],\n",
       "       [57905.37 ],\n",
       "       [58184.695],\n",
       "       [58437.03 ],\n",
       "       [58664.48 ],\n",
       "       [58867.914],\n",
       "       [59050.18 ],\n",
       "       [59216.25 ],\n",
       "       [59366.934],\n",
       "       [59493.152],\n",
       "       [59600.363],\n",
       "       [59692.24 ],\n",
       "       [59771.86 ],\n",
       "       [59840.113],\n",
       "       [59899.273],\n",
       "       [59950.293],\n",
       "       [59994.723],\n",
       "       [60033.656],\n",
       "       [60067.97 ],\n",
       "       [60102.14 ],\n",
       "       [60135.04 ],\n",
       "       [60165.297],\n",
       "       [60192.875],\n",
       "       [60216.547],\n",
       "       [60237.312],\n",
       "       [60254.324],\n",
       "       [60268.49 ],\n",
       "       [60277.42 ],\n",
       "       [60282.92 ],\n",
       "       [60285.95 ],\n",
       "       [60287.44 ],\n",
       "       [60287.83 ],\n",
       "       [60287.57 ],\n",
       "       [60285.71 ],\n",
       "       [60282.96 ],\n",
       "       [60278.72 ],\n",
       "       [60273.746],\n",
       "       [60267.266],\n",
       "       [60260.55 ],\n",
       "       [60253.55 ],\n",
       "       [60246.65 ],\n",
       "       [60244.543],\n",
       "       [60245.4  ],\n",
       "       [60247.016],\n",
       "       [60250.67 ],\n",
       "       [60255.41 ],\n",
       "       [60260.79 ],\n",
       "       [60264.78 ],\n",
       "       [60267.57 ],\n",
       "       [60269.516],\n",
       "       [60258.15 ],\n",
       "       [60239.215],\n",
       "       [60216.188],\n",
       "       [60191.688],\n",
       "       [60172.785],\n",
       "       [60157.996],\n",
       "       [60145.89 ],\n",
       "       [60135.78 ],\n",
       "       [60126.22 ],\n",
       "       [60117.305],\n",
       "       [60108.824],\n",
       "       [60100.895],\n",
       "       [60082.21 ],\n",
       "       [60057.758],\n",
       "       [60030.52 ],\n",
       "       [60002.727],\n",
       "       [59975.29 ],\n",
       "       [59949.098],\n",
       "       [59924.33 ],\n",
       "       [59901.36 ],\n",
       "       [59880.7  ],\n",
       "       [59862.15 ],\n",
       "       [59845.19 ],\n",
       "       [59829.785],\n",
       "       [59815.613],\n",
       "       [59802.688],\n",
       "       [59793.77 ],\n",
       "       [59787.555],\n",
       "       [59781.414],\n",
       "       [59775.484],\n",
       "       [59769.27 ],\n",
       "       [59763.094],\n",
       "       [59763.133],\n",
       "       [59766.87 ],\n",
       "       [59771.29 ],\n",
       "       [59775.89 ],\n",
       "       [59773.523],\n",
       "       [59767.07 ],\n",
       "       [59757.676],\n",
       "       [59746.93 ],\n",
       "       [59735.58 ],\n",
       "       [59724.33 ],\n",
       "       [59713.69 ],\n",
       "       [59703.832],\n",
       "       [59694.492],\n",
       "       [59685.81 ],\n",
       "       [59677.44 ],\n",
       "       [59669.57 ],\n",
       "       [59660.977],\n",
       "       [59652.27 ],\n",
       "       [59651.51 ],\n",
       "       [59655.527],\n",
       "       [59661.85 ],\n",
       "       [59669.254],\n",
       "       [59676.605],\n",
       "       [59683.625],\n",
       "       [59689.88 ],\n",
       "       [59695.445],\n",
       "       [59699.56 ],\n",
       "       [59702.66 ],\n",
       "       [59704.758],\n",
       "       [59706.145],\n",
       "       [59706.484],\n",
       "       [59706.195],\n",
       "       [59704.957],\n",
       "       [59703.22 ],\n",
       "       [59708.453],\n",
       "       [59717.676],\n",
       "       [59727.984],\n",
       "       [59738.504],\n",
       "       [59626.49 ],\n",
       "       [59445.168],\n",
       "       [59352.69 ],\n",
       "       [59317.82 ],\n",
       "       [59318.11 ],\n",
       "       [59338.695],\n",
       "       [59371.71 ],\n",
       "       [59410.523],\n",
       "       [59446.242],\n",
       "       [59478.65 ],\n",
       "       [59516.727],\n",
       "       [59556.805],\n",
       "       [59594.91 ],\n",
       "       [59630.367],\n",
       "       [59663.297],\n",
       "       [59693.508],\n",
       "       [59720.117],\n",
       "       [59743.633],\n",
       "       [59764.17 ],\n",
       "       [59782.22 ],\n",
       "       [59797.867],\n",
       "       [59811.56 ],\n",
       "       [59822.992],\n",
       "       [59832.715],\n",
       "       [59839.645],\n",
       "       [59844.676],\n",
       "       [59846.33 ],\n",
       "       [59845.92 ],\n",
       "       [59843.93 ],\n",
       "       [59841.1  ],\n",
       "       [59837.613],\n",
       "       [59833.88 ],\n",
       "       [59828.883],\n",
       "       [59823.32 ],\n",
       "       [59818.082],\n",
       "       [59813.25 ],\n",
       "       [59808.973],\n",
       "       [59805.203],\n",
       "       [59801.418],\n",
       "       [59797.74 ],\n",
       "       [59793.6  ],\n",
       "       [59789.36 ],\n",
       "       [59784.688],\n",
       "       [59779.938],\n",
       "       [59777.395],\n",
       "       [59776.254],\n",
       "       [59775.426],\n",
       "       [59774.777],\n",
       "       [59773.96 ],\n",
       "       [59773.062],\n",
       "       [59771.27 ],\n",
       "       [59769.004],\n",
       "       [59765.85 ],\n",
       "       [59762.277],\n",
       "       [59758.312],\n",
       "       [59754.26 ],\n",
       "       [59750.535],\n",
       "       [59746.83 ],\n",
       "       [59742.49 ],\n",
       "       [59737.28 ],\n",
       "       [59732.1  ],\n",
       "       [59726.51 ],\n",
       "       [59720.06 ],\n",
       "       [59711.28 ],\n",
       "       [59700.984],\n",
       "       [59689.86 ],\n",
       "       [59679.56 ],\n",
       "       [59669.812],\n",
       "       [59659.773],\n",
       "       [59649.46 ],\n",
       "       [59638.973],\n",
       "       [59627.902],\n",
       "       [59616.457],\n",
       "       [59604.324],\n",
       "       [59582.824],\n",
       "       [59556.19 ],\n",
       "       [59525.55 ],\n",
       "       [59486.01 ],\n",
       "       [59441.777],\n",
       "       [59396.574],\n",
       "       [59351.89 ],\n",
       "       [59308.74 ],\n",
       "       [59267.62 ],\n",
       "       [59228.33 ],\n",
       "       [59191.01 ],\n",
       "       [59155.496],\n",
       "       [59121.93 ],\n",
       "       [59089.83 ],\n",
       "       [59058.89 ],\n",
       "       [59045.656],\n",
       "       [59046.023],\n",
       "       [59053.965],\n",
       "       [59070.586],\n",
       "       [59090.76 ],\n",
       "       [59111.723],\n",
       "       [59131.777],\n",
       "       [59150.023],\n",
       "       [59167.125],\n",
       "       [59182.664],\n",
       "       [59195.773],\n",
       "       [59206.68 ],\n",
       "       [59215.562],\n",
       "       [59222.402],\n",
       "       [59226.535],\n",
       "       [59233.58 ],\n",
       "       [59233.37 ],\n",
       "       [59228.52 ],\n",
       "       [59220.043],\n",
       "       [59209.973],\n",
       "       [59199.05 ],\n",
       "       [59188.023]], dtype=float32)"
      ]
     },
     "execution_count": 131,
     "metadata": {},
     "output_type": "execute_result"
    }
   ],
   "source": [
    "#get the model prediction\n",
    "predictions=model.predict(x_test)\n",
    "predictions=scaler.inverse_transform(predictions)\n",
    "predictions"
   ]
  },
  {
   "cell_type": "code",
   "execution_count": 132,
   "id": "426c8fea",
   "metadata": {},
   "outputs": [
    {
     "name": "stdout",
     "output_type": "stream",
     "text": [
      "Mean Squared Error (MSE): 6395058.064928546\n",
      "R-squared (R2): 0.8847862236557426\n",
      "Mean Absolute Error (MAE): 1898.34764904637\n",
      "Root Mean Squared Error (RMSE): 2528.845203828923\n"
     ]
    }
   ],
   "source": [
    "from sklearn.metrics import mean_squared_error, r2_score, mean_absolute_error\n",
    "\n",
    "# Calculate Mean Squared Error (MSE)\n",
    "mse = mean_squared_error(y_test, predictions)\n",
    "\n",
    "# Calculate R-squared (R2)\n",
    "r2 = r2_score(y_test, predictions)\n",
    "\n",
    "# Calculate Mean Absolute Error (MAE)\n",
    "mae = mean_absolute_error(y_test, predictions)\n",
    "\n",
    "# Calculate Mean Absolute Percentage Error (MAPE)\n",
    "mape = np.mean(np.abs((y_test - predictions) / y_test)) * 100\n",
    "\n",
    "# Calculate Root Mean Squared Error (RMSE)\n",
    "rmse = np.sqrt(mse)\n",
    "\n",
    "print(f\"Mean Squared Error (MSE): {mse}\")\n",
    "print(f\"R-squared (R2): {r2}\")\n",
    "print(f\"Mean Absolute Error (MAE): {mae}\")\n",
    "# print(f\"Mean Absolute Percentage Error (MAPE): {mape}%\")\n",
    "print(f\"Root Mean Squared Error (RMSE): {rmse}\")\n"
   ]
  },
  {
   "cell_type": "code",
   "execution_count": 133,
   "id": "184d1b2f",
   "metadata": {
    "scrolled": true
   },
   "outputs": [
    {
     "name": "stderr",
     "output_type": "stream",
     "text": [
      "C:\\Users\\roma\\AppData\\Local\\Temp\\ipykernel_8516\\3983594056.py:3: SettingWithCopyWarning: \n",
      "A value is trying to be set on a copy of a slice from a DataFrame.\n",
      "Try using .loc[row_indexer,col_indexer] = value instead\n",
      "\n",
      "See the caveats in the documentation: https://pandas.pydata.org/pandas-docs/stable/user_guide/indexing.html#returning-a-view-versus-a-copy\n",
      "  valid['Predictions'] = predictions\n"
     ]
    }
   ],
   "source": [
    "train = df[:training_data_len]\n",
    "valid = df[training_data_len:]\n",
    "valid['Predictions'] = predictions"
   ]
  },
  {
   "cell_type": "code",
   "execution_count": 134,
   "id": "1b212334",
   "metadata": {},
   "outputs": [
    {
     "data": {
      "image/png": "[encoded data removed]",
      "text/plain": [
       "<Figure size 1200x600 with 1 Axes>"
      ]
     },
     "metadata": {},
     "output_type": "display_data"
    }
   ],
   "source": [
    "plt.figure(figsize=(12, 6))\n",
    "plt.title('Net Asset Value vs. Predictions')\n",
    "plt.xlabel('Time')\n",
    "plt.ylabel('Net Asset Value')\n",
    "plt.plot(train['Net Asset Value'], label='Training Data')\n",
    "plt.plot(valid['Net Asset Value'], label='Actual Data')\n",
    "plt.plot(valid['Predictions'], label='Predictions', linestyle='--')\n",
    "plt.legend()\n",
    "plt.show()"
   ]
  },
  {
   "cell_type": "code",
   "execution_count": 135,
   "id": "3b281bfa",
   "metadata": {},
   "outputs": [
    {
     "data": {
      "text/html": [
       "<div>\n",
       "<style scoped>\n",
       "    .dataframe tbody tr th:only-of-type {\n",
       "        vertical-align: middle;\n",
       "    }\n",
       "\n",
       "    .dataframe tbody tr th {\n",
       "        vertical-align: top;\n",
       "    }\n",
       "\n",
       "    .dataframe thead th {\n",
       "        text-align: right;\n",
       "    }\n",
       "</style>\n",
       "<table border=\"1\" class=\"dataframe\">\n",
       "  <thead>\n",
       "    <tr style=\"text-align: right;\">\n",
       "      <th></th>\n",
       "      <th>Net Asset Value</th>\n",
       "    </tr>\n",
       "    <tr>\n",
       "      <th>Date Valued</th>\n",
       "      <th></th>\n",
       "    </tr>\n",
       "  </thead>\n",
       "  <tbody>\n",
       "    <tr>\n",
       "      <th>12/30/2022</th>\n",
       "      <td>81601.029013</td>\n",
       "    </tr>\n",
       "    <tr>\n",
       "      <th>12/29/2022</th>\n",
       "      <td>81488.881027</td>\n",
       "    </tr>\n",
       "    <tr>\n",
       "      <th>12/28/2022</th>\n",
       "      <td>81435.834250</td>\n",
       "    </tr>\n",
       "    <tr>\n",
       "      <th>12/27/2022</th>\n",
       "      <td>81231.335961</td>\n",
       "    </tr>\n",
       "    <tr>\n",
       "      <th>12/23/2022</th>\n",
       "      <td>81136.101780</td>\n",
       "    </tr>\n",
       "    <tr>\n",
       "      <th>...</th>\n",
       "      <td>...</td>\n",
       "    </tr>\n",
       "    <tr>\n",
       "      <th>10/20/2017</th>\n",
       "      <td>41618.910461</td>\n",
       "    </tr>\n",
       "    <tr>\n",
       "      <th>10/19/2017</th>\n",
       "      <td>41615.333160</td>\n",
       "    </tr>\n",
       "    <tr>\n",
       "      <th>10/19/2017</th>\n",
       "      <td>41615.333160</td>\n",
       "    </tr>\n",
       "    <tr>\n",
       "      <th>10/18/2017</th>\n",
       "      <td>41611.394413</td>\n",
       "    </tr>\n",
       "    <tr>\n",
       "      <th>10/18/2017</th>\n",
       "      <td>41611.394413</td>\n",
       "    </tr>\n",
       "  </tbody>\n",
       "</table>\n",
       "<p>1336 rows × 1 columns</p>\n",
       "</div>"
      ],
      "text/plain": [
       "             Net Asset Value\n",
       "Date Valued                 \n",
       "12/30/2022      81601.029013\n",
       "12/29/2022      81488.881027\n",
       "12/28/2022      81435.834250\n",
       "12/27/2022      81231.335961\n",
       "12/23/2022      81136.101780\n",
       "...                      ...\n",
       "10/20/2017      41618.910461\n",
       "10/19/2017      41615.333160\n",
       "10/19/2017      41615.333160\n",
       "10/18/2017      41611.394413\n",
       "10/18/2017      41611.394413\n",
       "\n",
       "[1336 rows x 1 columns]"
      ]
     },
     "execution_count": 135,
     "metadata": {},
     "output_type": "execute_result"
    }
   ],
   "source": [
    "train"
   ]
  },
  {
   "cell_type": "code",
   "execution_count": 136,
   "id": "7d3fd746",
   "metadata": {},
   "outputs": [
    {
     "data": {
      "image/png": "[encoded data removed]",
      "text/plain": [
       "<Figure size 1200x600 with 1 Axes>"
      ]
     },
     "metadata": {},
     "output_type": "display_data"
    }
   ],
   "source": [
    "import matplotlib.pyplot as plt\n",
    "\n",
    "# Assuming 'valid' is a DataFrame containing 'Net Asset Value' and 'Predictions' columns\n",
    "plt.figure(figsize=(12, 6))\n",
    "plt.title('Actual vs. Predicted Net Asset Value')\n",
    "plt.xlabel('Time')\n",
    "plt.ylabel('Net Asset Value')\n",
    "\n",
    "# Plot the actual 'Net Asset Value' in blue\n",
    "plt.plot(valid['Net Asset Value'], label='Actual NAV', color='blue')\n",
    "\n",
    "# Plot the 'Predictions' in red\n",
    "plt.plot(valid['Predictions'], label='Predicted NAV', color='red')\n",
    "\n",
    "plt.legend()\n",
    "plt.show()\n"
   ]
  },
  {
   "cell_type": "code",
   "execution_count": 137,
   "id": "3e720485",
   "metadata": {},
   "outputs": [
    {
     "data": {
      "text/html": [
       "<div>\n",
       "<style scoped>\n",
       "    .dataframe tbody tr th:only-of-type {\n",
       "        vertical-align: middle;\n",
       "    }\n",
       "\n",
       "    .dataframe tbody tr th {\n",
       "        vertical-align: top;\n",
       "    }\n",
       "\n",
       "    .dataframe thead th {\n",
       "        text-align: right;\n",
       "    }\n",
       "</style>\n",
       "<table border=\"1\" class=\"dataframe\">\n",
       "  <thead>\n",
       "    <tr style=\"text-align: right;\">\n",
       "      <th></th>\n",
       "      <th>Net Asset Value</th>\n",
       "      <th>Predictions</th>\n",
       "    </tr>\n",
       "    <tr>\n",
       "      <th>Date Valued</th>\n",
       "      <th></th>\n",
       "      <th></th>\n",
       "    </tr>\n",
       "  </thead>\n",
       "  <tbody>\n",
       "    <tr>\n",
       "      <th>10/17/2017</th>\n",
       "      <td>41607.788934</td>\n",
       "      <td>40484.585938</td>\n",
       "    </tr>\n",
       "    <tr>\n",
       "      <th>10/17/2017</th>\n",
       "      <td>41607.788934</td>\n",
       "      <td>40510.609375</td>\n",
       "    </tr>\n",
       "    <tr>\n",
       "      <th>10/16/2017</th>\n",
       "      <td>41601.779229</td>\n",
       "      <td>40533.605469</td>\n",
       "    </tr>\n",
       "    <tr>\n",
       "      <th>10/16/2017</th>\n",
       "      <td>41601.779229</td>\n",
       "      <td>40553.730469</td>\n",
       "    </tr>\n",
       "    <tr>\n",
       "      <th>10/13/2017</th>\n",
       "      <td>41590.355469</td>\n",
       "      <td>40571.437500</td>\n",
       "    </tr>\n",
       "    <tr>\n",
       "      <th>...</th>\n",
       "      <td>...</td>\n",
       "      <td>...</td>\n",
       "    </tr>\n",
       "    <tr>\n",
       "      <th>1/6/2017</th>\n",
       "      <td>60431.945037</td>\n",
       "      <td>59228.519531</td>\n",
       "    </tr>\n",
       "    <tr>\n",
       "      <th>1/5/2017</th>\n",
       "      <td>60437.270157</td>\n",
       "      <td>59220.042969</td>\n",
       "    </tr>\n",
       "    <tr>\n",
       "      <th>1/4/2017</th>\n",
       "      <td>60428.107028</td>\n",
       "      <td>59209.972656</td>\n",
       "    </tr>\n",
       "    <tr>\n",
       "      <th>1/3/2017</th>\n",
       "      <td>60426.659108</td>\n",
       "      <td>59199.050781</td>\n",
       "    </tr>\n",
       "    <tr>\n",
       "      <th>1/2/2017</th>\n",
       "      <td>60621.320540</td>\n",
       "      <td>59188.023438</td>\n",
       "    </tr>\n",
       "  </tbody>\n",
       "</table>\n",
       "<p>333 rows × 2 columns</p>\n",
       "</div>"
      ],
      "text/plain": [
       "             Net Asset Value   Predictions\n",
       "Date Valued                               \n",
       "10/17/2017      41607.788934  40484.585938\n",
       "10/17/2017      41607.788934  40510.609375\n",
       "10/16/2017      41601.779229  40533.605469\n",
       "10/16/2017      41601.779229  40553.730469\n",
       "10/13/2017      41590.355469  40571.437500\n",
       "...                      ...           ...\n",
       "1/6/2017        60431.945037  59228.519531\n",
       "1/5/2017        60437.270157  59220.042969\n",
       "1/4/2017        60428.107028  59209.972656\n",
       "1/3/2017        60426.659108  59199.050781\n",
       "1/2/2017        60621.320540  59188.023438\n",
       "\n",
       "[333 rows x 2 columns]"
      ]
     },
     "execution_count": 137,
     "metadata": {},
     "output_type": "execute_result"
    }
   ],
   "source": [
    "valid"
   ]
  },
  {
   "cell_type": "code",
   "execution_count": 138,
   "id": "822d2399",
   "metadata": {},
   "outputs": [],
   "source": [
    "from sklearn.ensemble import RandomForestRegressor\n",
    "features = ['Outstanding Number of Units', 'Nav Per Unit', 'Sale Price per Unit', 'Repurchase Price/Unit']\n",
    "target = 'Net Asset Value'\n",
    "\n",
    "X = data[features]\n",
    "y = data[target]\n",
    "\n",
    "# Initialize and train the Random Forest model\n",
    "rf_model = RandomForestRegressor(n_estimators=100, random_state=0)\n",
    "rf_model.fit(X, y)\n",
    "\n",
    "# Make predictions using the Random Forest model\n",
    "rf_predictions = rf_model.predict(X)\n"
   ]
  },
  {
   "cell_type": "code",
   "execution_count": 139,
   "id": "6a3587bb",
   "metadata": {},
   "outputs": [
    {
     "name": "stdout",
     "output_type": "stream",
     "text": [
      "Root Mean Squared Error (RMSE): 3454.0557475493983\n",
      "Mean Squared Error (MSE): 11930501.107179033\n",
      "R-squared (R2): 0.9552026994636901\n"
     ]
    }
   ],
   "source": [
    "from sklearn.metrics import mean_squared_error, r2_score\n",
    "\n",
    "# Calculate predictions using the Random Forest model\n",
    "rf_predictions = rf_model.predict(X)\n",
    "\n",
    "# Calculate RMSE\n",
    "rmse = mean_squared_error(y, rf_predictions, squared=False)\n",
    "\n",
    "# Calculate MSE\n",
    "mse = mean_squared_error(y, rf_predictions)\n",
    "\n",
    "# Calculate R-squared (R2)\n",
    "r2 = r2_score(y, rf_predictions)\n",
    "\n",
    "print(f\"Root Mean Squared Error (RMSE): {rmse}\")\n",
    "print(f\"Mean Squared Error (MSE): {mse}\")\n",
    "print(f\"R-squared (R2): {r2}\")"
   ]
  },
  {
   "cell_type": "code",
   "execution_count": 140,
   "id": "4fc49e23",
   "metadata": {},
   "outputs": [
    {
     "data": {
      "image/png": "[encoded data removed]",
      "text/plain": [
       "<Figure size 1000x600 with 1 Axes>"
      ]
     },
     "metadata": {},
     "output_type": "display_data"
    }
   ],
   "source": [
    "\n",
    "rf_predictions = rf_model.predict(X)\n",
    "\n",
    "# Create a DataFrame with actual and predicted values\n",
    "results = pd.DataFrame({'Actual': y, 'Predicted': rf_predictions})\n",
    "\n",
    "# Plot actual and predicted values on the same axis\n",
    "plt.figure(figsize=(10, 6))\n",
    "plt.plot(results.index, results['Actual'], label='Actual', marker='o', linestyle='-', color='blue')\n",
    "plt.plot(results.index, results['Predicted'], label='Predicted', marker='x', linestyle='--', color='green')\n",
    "plt.xlabel('Data Point')\n",
    "plt.ylabel('Values')\n",
    "plt.title('Actual vs. Predicted Values (Random Forest)')\n",
    "plt.grid(True)\n",
    "plt.legend()\n",
    "plt.show()\n"
   ]
  },
  {
   "cell_type": "code",
   "execution_count": null,
   "id": "49d814d0",
   "metadata": {},
   "outputs": [],
   "source": []
  }
 ],
 "metadata": {
  "kernelspec": {
   "display_name": "Python 3 (ipykernel)",
   "language": "python",
   "name": "python3"
  },
  "language_info": {
   "codemirror_mode": {
    "name": "ipython",
    "version": 3
   },
   "file_extension": ".py",
   "mimetype": "text/x-python",
   "name": "python",
   "nbconvert_exporter": "python",
   "pygments_lexer": "ipython3",
   "version": "3.11.2"
  }
 },
 "nbformat": 4,
 "nbformat_minor": 5
}
