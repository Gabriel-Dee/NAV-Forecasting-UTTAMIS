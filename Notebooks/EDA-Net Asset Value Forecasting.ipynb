{
 "cells": [
  {
   "cell_type": "markdown",
   "id": "aba90312",
   "metadata": {},
   "source": [
    "# EDA - Net Asset Value Forecasting\n",
    "\n",
    "- Gain insights into the historical NAV data.\n",
    "- Visualize trends, seasonality, and anomalies in the data.\n",
    "- Identify key features influencing NAV."
   ]
  },
  {
   "cell_type": "code",
   "execution_count": 1,
   "id": "ee79c4de",
   "metadata": {},
   "outputs": [],
   "source": [
    "import pandas as pd\n",
    "import numpy as np\n",
    "import seaborn as sns\n",
    "import matplotlib.pyplot as plt"
   ]
  },
  {
   "cell_type": "code",
   "execution_count": 2,
   "id": "f64e86e7",
   "metadata": {},
   "outputs": [
    {
     "data": {
      "text/html": [
       "<div>\n",
       "<style scoped>\n",
       "    .dataframe tbody tr th:only-of-type {\n",
       "        vertical-align: middle;\n",
       "    }\n",
       "\n",
       "    .dataframe tbody tr th {\n",
       "        vertical-align: top;\n",
       "    }\n",
       "\n",
       "    .dataframe thead th {\n",
       "        text-align: right;\n",
       "    }\n",
       "</style>\n",
       "<table border=\"1\" class=\"dataframe\">\n",
       "  <thead>\n",
       "    <tr style=\"text-align: right;\">\n",
       "      <th></th>\n",
       "      <th>Scheme Name</th>\n",
       "      <th>Net Asset Value</th>\n",
       "      <th>Outstanding Number of Units</th>\n",
       "      <th>Nav Per Unit</th>\n",
       "      <th>Sale Price per Unit</th>\n",
       "      <th>Repurchase Price/Unit</th>\n",
       "      <th>Date Valued</th>\n",
       "    </tr>\n",
       "  </thead>\n",
       "  <tbody>\n",
       "    <tr>\n",
       "      <th>0</th>\n",
       "      <td>Umoja Fund</td>\n",
       "      <td>302,291,686,824.91</td>\n",
       "      <td>344,671,758.31</td>\n",
       "      <td>877.0422</td>\n",
       "      <td>877.0422</td>\n",
       "      <td>868.2718</td>\n",
       "      <td>30-12-2022</td>\n",
       "    </tr>\n",
       "    <tr>\n",
       "      <th>1</th>\n",
       "      <td>Wekeza Maisha Fund</td>\n",
       "      <td>6,658,727,935.83</td>\n",
       "      <td>8,978,247.54</td>\n",
       "      <td>741.6512</td>\n",
       "      <td>741.6512</td>\n",
       "      <td>726.8182</td>\n",
       "      <td>30-12-2022</td>\n",
       "    </tr>\n",
       "    <tr>\n",
       "      <th>2</th>\n",
       "      <td>Watoto Fund</td>\n",
       "      <td>8,426,930,098.23</td>\n",
       "      <td>15,378,315.70</td>\n",
       "      <td>547.9748</td>\n",
       "      <td>547.9748</td>\n",
       "      <td>542.4951</td>\n",
       "      <td>30-12-2022</td>\n",
       "    </tr>\n",
       "    <tr>\n",
       "      <th>3</th>\n",
       "      <td>Jikimu Fund</td>\n",
       "      <td>19,122,648,898.31</td>\n",
       "      <td>120,180,812.85</td>\n",
       "      <td>159.1157</td>\n",
       "      <td>159.1157</td>\n",
       "      <td>155.9333</td>\n",
       "      <td>30-12-2022</td>\n",
       "    </tr>\n",
       "    <tr>\n",
       "      <th>4</th>\n",
       "      <td>Liquid Fund</td>\n",
       "      <td>559,272,074,566.94</td>\n",
       "      <td>1,632,828,600.86</td>\n",
       "      <td>342.5173</td>\n",
       "      <td>342.5173</td>\n",
       "      <td>342.5173</td>\n",
       "      <td>30-12-2022</td>\n",
       "    </tr>\n",
       "  </tbody>\n",
       "</table>\n",
       "</div>"
      ],
      "text/plain": [
       "          Scheme Name     Net Asset Value Outstanding Number of Units  \\\n",
       "0          Umoja Fund  302,291,686,824.91              344,671,758.31   \n",
       "1  Wekeza Maisha Fund    6,658,727,935.83                8,978,247.54   \n",
       "2         Watoto Fund    8,426,930,098.23               15,378,315.70   \n",
       "3         Jikimu Fund   19,122,648,898.31              120,180,812.85   \n",
       "4         Liquid Fund  559,272,074,566.94            1,632,828,600.86   \n",
       "\n",
       "   Nav Per Unit  Sale Price per Unit  Repurchase Price/Unit Date Valued  \n",
       "0      877.0422             877.0422               868.2718  30-12-2022  \n",
       "1      741.6512             741.6512               726.8182  30-12-2022  \n",
       "2      547.9748             547.9748               542.4951  30-12-2022  \n",
       "3      159.1157             159.1157               155.9333  30-12-2022  \n",
       "4      342.5173             342.5173               342.5173  30-12-2022  "
      ]
     },
     "execution_count": 2,
     "metadata": {},
     "output_type": "execute_result"
    }
   ],
   "source": [
    "path = '../Data/Net Asset Value.csv'\n",
    "data=pd.read_csv(path)\n",
    "data.head()"
   ]
  },
  {
   "cell_type": "code",
   "execution_count": 3,
   "id": "6dbb0540",
   "metadata": {},
   "outputs": [
    {
     "data": {
      "text/html": [
       "<div>\n",
       "<style scoped>\n",
       "    .dataframe tbody tr th:only-of-type {\n",
       "        vertical-align: middle;\n",
       "    }\n",
       "\n",
       "    .dataframe tbody tr th {\n",
       "        vertical-align: top;\n",
       "    }\n",
       "\n",
       "    .dataframe thead th {\n",
       "        text-align: right;\n",
       "    }\n",
       "</style>\n",
       "<table border=\"1\" class=\"dataframe\">\n",
       "  <thead>\n",
       "    <tr style=\"text-align: right;\">\n",
       "      <th></th>\n",
       "      <th>Scheme Name</th>\n",
       "      <th>Net Asset Value</th>\n",
       "      <th>Outstanding Number of Units</th>\n",
       "      <th>Nav Per Unit</th>\n",
       "      <th>Sale Price per Unit</th>\n",
       "      <th>Repurchase Price/Unit</th>\n",
       "      <th>Date Valued</th>\n",
       "    </tr>\n",
       "  </thead>\n",
       "  <tbody>\n",
       "    <tr>\n",
       "      <th>0</th>\n",
       "      <td>Umoja Fund</td>\n",
       "      <td>302,291,686,824.91</td>\n",
       "      <td>344,671,758.31</td>\n",
       "      <td>877.0422</td>\n",
       "      <td>877.0422</td>\n",
       "      <td>868.2718</td>\n",
       "      <td>30-12-2022</td>\n",
       "    </tr>\n",
       "    <tr>\n",
       "      <th>1</th>\n",
       "      <td>Wekeza Maisha Fund</td>\n",
       "      <td>6,658,727,935.83</td>\n",
       "      <td>8,978,247.54</td>\n",
       "      <td>741.6512</td>\n",
       "      <td>741.6512</td>\n",
       "      <td>726.8182</td>\n",
       "      <td>30-12-2022</td>\n",
       "    </tr>\n",
       "    <tr>\n",
       "      <th>2</th>\n",
       "      <td>Watoto Fund</td>\n",
       "      <td>8,426,930,098.23</td>\n",
       "      <td>15,378,315.70</td>\n",
       "      <td>547.9748</td>\n",
       "      <td>547.9748</td>\n",
       "      <td>542.4951</td>\n",
       "      <td>30-12-2022</td>\n",
       "    </tr>\n",
       "    <tr>\n",
       "      <th>3</th>\n",
       "      <td>Jikimu Fund</td>\n",
       "      <td>19,122,648,898.31</td>\n",
       "      <td>120,180,812.85</td>\n",
       "      <td>159.1157</td>\n",
       "      <td>159.1157</td>\n",
       "      <td>155.9333</td>\n",
       "      <td>30-12-2022</td>\n",
       "    </tr>\n",
       "    <tr>\n",
       "      <th>4</th>\n",
       "      <td>Liquid Fund</td>\n",
       "      <td>559,272,074,566.94</td>\n",
       "      <td>1,632,828,600.86</td>\n",
       "      <td>342.5173</td>\n",
       "      <td>342.5173</td>\n",
       "      <td>342.5173</td>\n",
       "      <td>30-12-2022</td>\n",
       "    </tr>\n",
       "  </tbody>\n",
       "</table>\n",
       "</div>"
      ],
      "text/plain": [
       "          Scheme Name     Net Asset Value Outstanding Number of Units  \\\n",
       "0          Umoja Fund  302,291,686,824.91              344,671,758.31   \n",
       "1  Wekeza Maisha Fund    6,658,727,935.83                8,978,247.54   \n",
       "2         Watoto Fund    8,426,930,098.23               15,378,315.70   \n",
       "3         Jikimu Fund   19,122,648,898.31              120,180,812.85   \n",
       "4         Liquid Fund  559,272,074,566.94            1,632,828,600.86   \n",
       "\n",
       "   Nav Per Unit  Sale Price per Unit  Repurchase Price/Unit Date Valued  \n",
       "0      877.0422             877.0422               868.2718  30-12-2022  \n",
       "1      741.6512             741.6512               726.8182  30-12-2022  \n",
       "2      547.9748             547.9748               542.4951  30-12-2022  \n",
       "3      159.1157             159.1157               155.9333  30-12-2022  \n",
       "4      342.5173             342.5173               342.5173  30-12-2022  "
      ]
     },
     "execution_count": 3,
     "metadata": {},
     "output_type": "execute_result"
    }
   ],
   "source": [
    "df=data[['Scheme Name','Net Asset Value','Outstanding Number of Units','Nav Per Unit','Sale Price per Unit','Repurchase Price/Unit','Date Valued']]\n",
    "df.head()"
   ]
  },
  {
   "cell_type": "code",
   "execution_count": 4,
   "id": "d260903d",
   "metadata": {},
   "outputs": [
    {
     "data": {
      "text/plain": [
       "(9088, 7)"
      ]
     },
     "execution_count": 4,
     "metadata": {},
     "output_type": "execute_result"
    }
   ],
   "source": [
    "df.shape"
   ]
  },
  {
   "cell_type": "code",
   "execution_count": 5,
   "id": "0b7ee8d2",
   "metadata": {},
   "outputs": [
    {
     "data": {
      "text/plain": [
       "Scheme Name                     object\n",
       "Net Asset Value                 object\n",
       "Outstanding Number of Units     object\n",
       "Nav Per Unit                   float64\n",
       "Sale Price per Unit            float64\n",
       "Repurchase Price/Unit          float64\n",
       "Date Valued                     object\n",
       "dtype: object"
      ]
     },
     "execution_count": 5,
     "metadata": {},
     "output_type": "execute_result"
    }
   ],
   "source": [
    "df.dtypes"
   ]
  },
  {
   "cell_type": "markdown",
   "id": "b1069ab3",
   "metadata": {},
   "source": [
    "### data cleaning"
   ]
  },
  {
   "cell_type": "code",
   "execution_count": 6,
   "id": "2e54ee81",
   "metadata": {},
   "outputs": [
    {
     "name": "stdout",
     "output_type": "stream",
     "text": [
      "<class 'pandas.core.frame.DataFrame'>\n",
      "RangeIndex: 9088 entries, 0 to 9087\n",
      "Data columns (total 7 columns):\n",
      " #   Column                       Non-Null Count  Dtype  \n",
      "---  ------                       --------------  -----  \n",
      " 0   Scheme Name                  9088 non-null   object \n",
      " 1   Net Asset Value              9088 non-null   float64\n",
      " 2   Outstanding Number of Units  9088 non-null   float64\n",
      " 3   Nav Per Unit                 9088 non-null   float64\n",
      " 4   Sale Price per Unit          9088 non-null   float64\n",
      " 5   Repurchase Price/Unit        9088 non-null   float64\n",
      " 6   Date Valued                  9088 non-null   object \n",
      "dtypes: float64(5), object(2)\n",
      "memory usage: 497.1+ KB\n"
     ]
    }
   ],
   "source": [
    "import re\n",
    "def clean_and_extract_number(s):\n",
    "    cleaned_value = re.sub(r'[^\\d.]', '', str(s))\n",
    "    return cleaned_value\n",
    "numeric_columns = ['Net Asset Value','Outstanding Number of Units']\n",
    "for col in numeric_columns:\n",
    "    df[col] = df[col].apply(clean_and_extract_number)\n",
    "df[numeric_columns] = df[numeric_columns].apply(pd.to_numeric, errors='coerce')\n",
    "df.info()"
   ]
  },
  {
   "cell_type": "code",
   "execution_count": 7,
   "id": "02d08c81",
   "metadata": {},
   "outputs": [
    {
     "data": {
      "text/plain": [
       "Scheme Name                            object\n",
       "Net Asset Value                       float64\n",
       "Outstanding Number of Units           float64\n",
       "Nav Per Unit                          float64\n",
       "Sale Price per Unit                   float64\n",
       "Repurchase Price/Unit                 float64\n",
       "Date Valued                    datetime64[ns]\n",
       "dtype: object"
      ]
     },
     "execution_count": 7,
     "metadata": {},
     "output_type": "execute_result"
    }
   ],
   "source": [
    "df['Date Valued'] = df['Date Valued'].astype(str)\n",
    "df['Date Valued'] = df['Date Valued'].str.replace('/', '-')  \n",
    "df['Date Valued'] = pd.to_datetime(df['Date Valued'], format='%d-%m-%Y', errors='coerce')\n",
    "df['Date Valued'] = pd.to_datetime(df['Date Valued'])\n",
    "df.dtypes"
   ]
  },
  {
   "cell_type": "code",
   "execution_count": 8,
   "id": "b16c210f",
   "metadata": {},
   "outputs": [
    {
     "data": {
      "text/html": [
       "<div>\n",
       "<style scoped>\n",
       "    .dataframe tbody tr th:only-of-type {\n",
       "        vertical-align: middle;\n",
       "    }\n",
       "\n",
       "    .dataframe tbody tr th {\n",
       "        vertical-align: top;\n",
       "    }\n",
       "\n",
       "    .dataframe thead th {\n",
       "        text-align: right;\n",
       "    }\n",
       "</style>\n",
       "<table border=\"1\" class=\"dataframe\">\n",
       "  <thead>\n",
       "    <tr style=\"text-align: right;\">\n",
       "      <th></th>\n",
       "      <th>Scheme Name</th>\n",
       "      <th>Net Asset Value</th>\n",
       "      <th>Outstanding Number of Units</th>\n",
       "      <th>Nav Per Unit</th>\n",
       "      <th>Sale Price per Unit</th>\n",
       "      <th>Repurchase Price/Unit</th>\n",
       "      <th>Date Valued</th>\n",
       "    </tr>\n",
       "  </thead>\n",
       "  <tbody>\n",
       "    <tr>\n",
       "      <th>0</th>\n",
       "      <td>Umoja Fund</td>\n",
       "      <td>3.022917e+11</td>\n",
       "      <td>3.446718e+08</td>\n",
       "      <td>877.0422</td>\n",
       "      <td>877.0422</td>\n",
       "      <td>868.2718</td>\n",
       "      <td>2022-12-30</td>\n",
       "    </tr>\n",
       "    <tr>\n",
       "      <th>1</th>\n",
       "      <td>Wekeza Maisha Fund</td>\n",
       "      <td>6.658728e+09</td>\n",
       "      <td>8.978248e+06</td>\n",
       "      <td>741.6512</td>\n",
       "      <td>741.6512</td>\n",
       "      <td>726.8182</td>\n",
       "      <td>2022-12-30</td>\n",
       "    </tr>\n",
       "    <tr>\n",
       "      <th>2</th>\n",
       "      <td>Watoto Fund</td>\n",
       "      <td>8.426930e+09</td>\n",
       "      <td>1.537832e+07</td>\n",
       "      <td>547.9748</td>\n",
       "      <td>547.9748</td>\n",
       "      <td>542.4951</td>\n",
       "      <td>2022-12-30</td>\n",
       "    </tr>\n",
       "    <tr>\n",
       "      <th>3</th>\n",
       "      <td>Jikimu Fund</td>\n",
       "      <td>1.912265e+10</td>\n",
       "      <td>1.201808e+08</td>\n",
       "      <td>159.1157</td>\n",
       "      <td>159.1157</td>\n",
       "      <td>155.9333</td>\n",
       "      <td>2022-12-30</td>\n",
       "    </tr>\n",
       "    <tr>\n",
       "      <th>4</th>\n",
       "      <td>Liquid Fund</td>\n",
       "      <td>5.592721e+11</td>\n",
       "      <td>1.632829e+09</td>\n",
       "      <td>342.5173</td>\n",
       "      <td>342.5173</td>\n",
       "      <td>342.5173</td>\n",
       "      <td>2022-12-30</td>\n",
       "    </tr>\n",
       "  </tbody>\n",
       "</table>\n",
       "</div>"
      ],
      "text/plain": [
       "          Scheme Name  Net Asset Value  Outstanding Number of Units  \\\n",
       "0          Umoja Fund     3.022917e+11                 3.446718e+08   \n",
       "1  Wekeza Maisha Fund     6.658728e+09                 8.978248e+06   \n",
       "2         Watoto Fund     8.426930e+09                 1.537832e+07   \n",
       "3         Jikimu Fund     1.912265e+10                 1.201808e+08   \n",
       "4         Liquid Fund     5.592721e+11                 1.632829e+09   \n",
       "\n",
       "   Nav Per Unit  Sale Price per Unit  Repurchase Price/Unit Date Valued  \n",
       "0      877.0422             877.0422               868.2718  2022-12-30  \n",
       "1      741.6512             741.6512               726.8182  2022-12-30  \n",
       "2      547.9748             547.9748               542.4951  2022-12-30  \n",
       "3      159.1157             159.1157               155.9333  2022-12-30  \n",
       "4      342.5173             342.5173               342.5173  2022-12-30  "
      ]
     },
     "execution_count": 8,
     "metadata": {},
     "output_type": "execute_result"
    }
   ],
   "source": [
    "df.head()"
   ]
  },
  {
   "cell_type": "markdown",
   "id": "149af028",
   "metadata": {},
   "source": [
    "### EDA"
   ]
  },
  {
   "cell_type": "code",
   "execution_count": 10,
   "id": "90a279a1",
   "metadata": {},
   "outputs": [
    {
     "data": {
      "text/html": [
       "<div>\n",
       "<style scoped>\n",
       "    .dataframe tbody tr th:only-of-type {\n",
       "        vertical-align: middle;\n",
       "    }\n",
       "\n",
       "    .dataframe tbody tr th {\n",
       "        vertical-align: top;\n",
       "    }\n",
       "\n",
       "    .dataframe thead th {\n",
       "        text-align: right;\n",
       "    }\n",
       "</style>\n",
       "<table border=\"1\" class=\"dataframe\">\n",
       "  <thead>\n",
       "    <tr style=\"text-align: right;\">\n",
       "      <th></th>\n",
       "      <th>count</th>\n",
       "      <th>mean</th>\n",
       "      <th>min</th>\n",
       "      <th>25%</th>\n",
       "      <th>50%</th>\n",
       "      <th>75%</th>\n",
       "      <th>max</th>\n",
       "      <th>std</th>\n",
       "    </tr>\n",
       "  </thead>\n",
       "  <tbody>\n",
       "    <tr>\n",
       "      <th>Net Asset Value</th>\n",
       "      <td>9088.0</td>\n",
       "      <td>80818440558.51947</td>\n",
       "      <td>146107741.12</td>\n",
       "      <td>3525975795.38</td>\n",
       "      <td>19654065211.860001</td>\n",
       "      <td>177426121949.957489</td>\n",
       "      <td>570121620321.589966</td>\n",
       "      <td>112508941656.717453</td>\n",
       "    </tr>\n",
       "    <tr>\n",
       "      <th>Outstanding Number of Units</th>\n",
       "      <td>9088.0</td>\n",
       "      <td>381630616.964447</td>\n",
       "      <td>2668395.93</td>\n",
       "      <td>9766251.3375</td>\n",
       "      <td>145563536.325</td>\n",
       "      <td>359074889.4425</td>\n",
       "      <td>452173239578.73999</td>\n",
       "      <td>6165714658.568305</td>\n",
       "    </tr>\n",
       "    <tr>\n",
       "      <th>Nav Per Unit</th>\n",
       "      <td>9088.0</td>\n",
       "      <td>344.105499</td>\n",
       "      <td>101.3698</td>\n",
       "      <td>153.956925</td>\n",
       "      <td>321.21975</td>\n",
       "      <td>501.4478</td>\n",
       "      <td>877.0422</td>\n",
       "      <td>200.638451</td>\n",
       "    </tr>\n",
       "    <tr>\n",
       "      <th>Sale Price per Unit</th>\n",
       "      <td>9088.0</td>\n",
       "      <td>344.105413</td>\n",
       "      <td>101.3698</td>\n",
       "      <td>153.956925</td>\n",
       "      <td>321.21975</td>\n",
       "      <td>501.4478</td>\n",
       "      <td>877.0422</td>\n",
       "      <td>200.638543</td>\n",
       "    </tr>\n",
       "    <tr>\n",
       "      <th>Repurchase Price/Unit</th>\n",
       "      <td>9088.0</td>\n",
       "      <td>340.082981</td>\n",
       "      <td>101.3698</td>\n",
       "      <td>150.877825</td>\n",
       "      <td>316.07645</td>\n",
       "      <td>496.08325</td>\n",
       "      <td>868.2718</td>\n",
       "      <td>197.907457</td>\n",
       "    </tr>\n",
       "    <tr>\n",
       "      <th>Date Valued</th>\n",
       "      <td>9088</td>\n",
       "      <td>2019-11-18 02:25:36.971830784</td>\n",
       "      <td>2017-01-02 00:00:00</td>\n",
       "      <td>2018-02-12 00:00:00</td>\n",
       "      <td>2019-12-04 00:00:00</td>\n",
       "      <td>2021-06-21 00:00:00</td>\n",
       "      <td>2022-12-30 00:00:00</td>\n",
       "      <td>NaN</td>\n",
       "    </tr>\n",
       "  </tbody>\n",
       "</table>\n",
       "</div>"
      ],
      "text/plain": [
       "                              count                           mean  \\\n",
       "Net Asset Value              9088.0              80818440558.51947   \n",
       "Outstanding Number of Units  9088.0               381630616.964447   \n",
       "Nav Per Unit                 9088.0                     344.105499   \n",
       "Sale Price per Unit          9088.0                     344.105413   \n",
       "Repurchase Price/Unit        9088.0                     340.082981   \n",
       "Date Valued                    9088  2019-11-18 02:25:36.971830784   \n",
       "\n",
       "                                             min                  25%  \\\n",
       "Net Asset Value                     146107741.12        3525975795.38   \n",
       "Outstanding Number of Units           2668395.93         9766251.3375   \n",
       "Nav Per Unit                            101.3698           153.956925   \n",
       "Sale Price per Unit                     101.3698           153.956925   \n",
       "Repurchase Price/Unit                   101.3698           150.877825   \n",
       "Date Valued                  2017-01-02 00:00:00  2018-02-12 00:00:00   \n",
       "\n",
       "                                             50%                  75%  \\\n",
       "Net Asset Value               19654065211.860001  177426121949.957489   \n",
       "Outstanding Number of Units        145563536.325       359074889.4425   \n",
       "Nav Per Unit                           321.21975             501.4478   \n",
       "Sale Price per Unit                    321.21975             501.4478   \n",
       "Repurchase Price/Unit                  316.07645            496.08325   \n",
       "Date Valued                  2019-12-04 00:00:00  2021-06-21 00:00:00   \n",
       "\n",
       "                                             max                  std  \n",
       "Net Asset Value              570121620321.589966  112508941656.717453  \n",
       "Outstanding Number of Units   452173239578.73999    6165714658.568305  \n",
       "Nav Per Unit                            877.0422           200.638451  \n",
       "Sale Price per Unit                     877.0422           200.638543  \n",
       "Repurchase Price/Unit                   868.2718           197.907457  \n",
       "Date Valued                  2022-12-30 00:00:00                  NaN  "
      ]
     },
     "execution_count": 10,
     "metadata": {},
     "output_type": "execute_result"
    }
   ],
   "source": [
    "df.describe().T"
   ]
  },
  {
   "cell_type": "code",
   "execution_count": 11,
   "id": "bb21b7e0",
   "metadata": {},
   "outputs": [
    {
     "name": "stdout",
     "output_type": "stream",
     "text": [
      "Net Asset Value time series is likely stationary.\n"
     ]
    }
   ],
   "source": [
    "from statsmodels.tsa.stattools import adfuller\n",
    "result = adfuller(df['Net Asset Value'])\n",
    "p_value = result[1]\n",
    "\n",
    "if p_value < 0.05:\n",
    "    print(\"Net Asset Value time series is likely stationary.\")\n",
    "else:\n",
    "    print(\"Net Asset Value time series is likely non-stationary.\")"
   ]
  },
  {
   "cell_type": "markdown",
   "id": "2c0216d6",
   "metadata": {},
   "source": [
    "### handling outliers"
   ]
  },
  {
   "cell_type": "code",
   "execution_count": 12,
   "id": "65318de0",
   "metadata": {},
   "outputs": [
    {
     "name": "stdout",
     "output_type": "stream",
     "text": [
      "   Net Asset Value       Sqrt_NAV    Log_NAV\n",
      "0     3.022917e+11  549810.591772  26.434658\n",
      "1     6.658728e+09   81601.029012  22.619194\n",
      "2     8.426930e+09   91798.312066  22.854698\n",
      "3     1.912265e+10  138284.666172  23.674139\n",
      "4     5.592721e+11  747844.953561  27.049902\n"
     ]
    }
   ],
   "source": [
    "#log transformation\n",
    "df['Log_NAV'] = np.log(df['Net Asset Value'])\n",
    "\n",
    "# Square Root Transformation\n",
    "df['Sqrt_NAV'] = np.sqrt(df['Net Asset Value'])\n",
    "\n",
    "\n",
    "# Display the first few rows to check the results\n",
    "print(df[['Net Asset Value', 'Sqrt_NAV', 'Log_NAV']].head())"
   ]
  },
  {
   "cell_type": "code",
   "execution_count": null,
   "id": "25ddc9d6",
   "metadata": {},
   "outputs": [],
   "source": []
  }
 ],
 "metadata": {
  "kernelspec": {
   "display_name": "Python 3 (ipykernel)",
   "language": "python",
   "name": "python3"
  },
  "language_info": {
   "codemirror_mode": {
    "name": "ipython",
    "version": 3
   },
   "file_extension": ".py",
   "mimetype": "text/x-python",
   "name": "python",
   "nbconvert_exporter": "python",
   "pygments_lexer": "ipython3",
   "version": "3.11.4"
  }
 },
 "nbformat": 4,
 "nbformat_minor": 5
}
