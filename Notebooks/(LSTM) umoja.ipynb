{
 "cells": [
  {
   "cell_type": "code",
   "execution_count": 1,
   "id": "4863403f",
   "metadata": {},
   "outputs": [],
   "source": [
    "import math\n",
    "import pandas as pd\n",
    "import numpy as np\n",
    "from sklearn.preprocessing import MinMaxScaler\n",
    "from keras.models import Sequential\n",
    "from keras.layers import Dense, LSTM\n",
    "import seaborn as sns\n",
    "import matplotlib.pyplot as plt"
   ]
  },
  {
   "cell_type": "code",
   "execution_count": 171,
   "id": "d139c796",
   "metadata": {},
   "outputs": [
    {
     "data": {
      "text/html": [
       "<div>\n",
       "<style scoped>\n",
       "    .dataframe tbody tr th:only-of-type {\n",
       "        vertical-align: middle;\n",
       "    }\n",
       "\n",
       "    .dataframe tbody tr th {\n",
       "        vertical-align: top;\n",
       "    }\n",
       "\n",
       "    .dataframe thead th {\n",
       "        text-align: right;\n",
       "    }\n",
       "</style>\n",
       "<table border=\"1\" class=\"dataframe\">\n",
       "  <thead>\n",
       "    <tr style=\"text-align: right;\">\n",
       "      <th></th>\n",
       "      <th>Scheme Name</th>\n",
       "      <th>Net Asset Value</th>\n",
       "      <th>Outstanding Number of Units</th>\n",
       "      <th>Nav Per Unit</th>\n",
       "      <th>Sale Price per Unit</th>\n",
       "      <th>Repurchase Price/Unit</th>\n",
       "      <th>Date Valued</th>\n",
       "    </tr>\n",
       "  </thead>\n",
       "  <tbody>\n",
       "    <tr>\n",
       "      <th>0</th>\n",
       "      <td>Umoja Fund</td>\n",
       "      <td>3.022920e+11</td>\n",
       "      <td>344671758.3</td>\n",
       "      <td>877.0422</td>\n",
       "      <td>877.0422</td>\n",
       "      <td>868.2718</td>\n",
       "      <td>12/30/2022</td>\n",
       "    </tr>\n",
       "    <tr>\n",
       "      <th>1</th>\n",
       "      <td>Umoja Fund</td>\n",
       "      <td>3.020420e+11</td>\n",
       "      <td>344671847.7</td>\n",
       "      <td>876.3168</td>\n",
       "      <td>876.3168</td>\n",
       "      <td>867.5536</td>\n",
       "      <td>12/29/2022</td>\n",
       "    </tr>\n",
       "    <tr>\n",
       "      <th>2</th>\n",
       "      <td>Umoja Fund</td>\n",
       "      <td>3.020070e+11</td>\n",
       "      <td>344681742.4</td>\n",
       "      <td>876.1918</td>\n",
       "      <td>876.1918</td>\n",
       "      <td>867.4299</td>\n",
       "      <td>12/28/2022</td>\n",
       "    </tr>\n",
       "    <tr>\n",
       "      <th>3</th>\n",
       "      <td>Umoja Fund</td>\n",
       "      <td>3.020270e+11</td>\n",
       "      <td>344753407.1</td>\n",
       "      <td>876.0658</td>\n",
       "      <td>876.0658</td>\n",
       "      <td>867.3051</td>\n",
       "      <td>12/27/2022</td>\n",
       "    </tr>\n",
       "    <tr>\n",
       "      <th>4</th>\n",
       "      <td>Umoja Fund</td>\n",
       "      <td>3.018260e+11</td>\n",
       "      <td>344721179.5</td>\n",
       "      <td>875.5668</td>\n",
       "      <td>875.5668</td>\n",
       "      <td>866.8112</td>\n",
       "      <td>12/23/2022</td>\n",
       "    </tr>\n",
       "  </tbody>\n",
       "</table>\n",
       "</div>"
      ],
      "text/plain": [
       "  Scheme Name  Net Asset Value  Outstanding Number of Units  Nav Per Unit  \\\n",
       "0  Umoja Fund     3.022920e+11                  344671758.3      877.0422   \n",
       "1  Umoja Fund     3.020420e+11                  344671847.7      876.3168   \n",
       "2  Umoja Fund     3.020070e+11                  344681742.4      876.1918   \n",
       "3  Umoja Fund     3.020270e+11                  344753407.1      876.0658   \n",
       "4  Umoja Fund     3.018260e+11                  344721179.5      875.5668   \n",
       "\n",
       "   Sale Price per Unit  Repurchase Price/Unit Date Valued  \n",
       "0             877.0422               868.2718  12/30/2022  \n",
       "1             876.3168               867.5536  12/29/2022  \n",
       "2             876.1918               867.4299  12/28/2022  \n",
       "3             876.0658               867.3051  12/27/2022  \n",
       "4             875.5668               866.8112  12/23/2022  "
      ]
     },
     "execution_count": 171,
     "metadata": {},
     "output_type": "execute_result"
    }
   ],
   "source": [
    "data=pd.read_csv('Umoja_data.csv')\n",
    "data.head()"
   ]
  },
  {
   "cell_type": "code",
   "execution_count": 172,
   "id": "bc1a320b",
   "metadata": {},
   "outputs": [
    {
     "data": {
      "text/plain": [
       "(1664, 7)"
      ]
     },
     "execution_count": 172,
     "metadata": {},
     "output_type": "execute_result"
    }
   ],
   "source": [
    "data.shape"
   ]
  },
  {
   "cell_type": "code",
   "execution_count": 173,
   "id": "f23a93ef",
   "metadata": {},
   "outputs": [
    {
     "data": {
      "text/html": [
       "<div>\n",
       "<style scoped>\n",
       "    .dataframe tbody tr th:only-of-type {\n",
       "        vertical-align: middle;\n",
       "    }\n",
       "\n",
       "    .dataframe tbody tr th {\n",
       "        vertical-align: top;\n",
       "    }\n",
       "\n",
       "    .dataframe thead th {\n",
       "        text-align: right;\n",
       "    }\n",
       "</style>\n",
       "<table border=\"1\" class=\"dataframe\">\n",
       "  <thead>\n",
       "    <tr style=\"text-align: right;\">\n",
       "      <th></th>\n",
       "      <th>Scheme Name</th>\n",
       "      <th>Net Asset Value</th>\n",
       "      <th>Outstanding Number of Units</th>\n",
       "      <th>Nav Per Unit</th>\n",
       "      <th>Sale Price per Unit</th>\n",
       "      <th>Repurchase Price/Unit</th>\n",
       "      <th>Date Valued</th>\n",
       "    </tr>\n",
       "  </thead>\n",
       "  <tbody>\n",
       "    <tr>\n",
       "      <th>0</th>\n",
       "      <td>Umoja Fund</td>\n",
       "      <td>3.022920e+11</td>\n",
       "      <td>344671758.3</td>\n",
       "      <td>877.0422</td>\n",
       "      <td>877.0422</td>\n",
       "      <td>868.2718</td>\n",
       "      <td>12/30/2022</td>\n",
       "    </tr>\n",
       "    <tr>\n",
       "      <th>1</th>\n",
       "      <td>Umoja Fund</td>\n",
       "      <td>3.020420e+11</td>\n",
       "      <td>344671847.7</td>\n",
       "      <td>876.3168</td>\n",
       "      <td>876.3168</td>\n",
       "      <td>867.5536</td>\n",
       "      <td>12/29/2022</td>\n",
       "    </tr>\n",
       "    <tr>\n",
       "      <th>2</th>\n",
       "      <td>Umoja Fund</td>\n",
       "      <td>3.020070e+11</td>\n",
       "      <td>344681742.4</td>\n",
       "      <td>876.1918</td>\n",
       "      <td>876.1918</td>\n",
       "      <td>867.4299</td>\n",
       "      <td>12/28/2022</td>\n",
       "    </tr>\n",
       "    <tr>\n",
       "      <th>3</th>\n",
       "      <td>Umoja Fund</td>\n",
       "      <td>3.020270e+11</td>\n",
       "      <td>344753407.1</td>\n",
       "      <td>876.0658</td>\n",
       "      <td>876.0658</td>\n",
       "      <td>867.3051</td>\n",
       "      <td>12/27/2022</td>\n",
       "    </tr>\n",
       "    <tr>\n",
       "      <th>4</th>\n",
       "      <td>Umoja Fund</td>\n",
       "      <td>3.018260e+11</td>\n",
       "      <td>344721179.5</td>\n",
       "      <td>875.5668</td>\n",
       "      <td>875.5668</td>\n",
       "      <td>866.8112</td>\n",
       "      <td>12/23/2022</td>\n",
       "    </tr>\n",
       "  </tbody>\n",
       "</table>\n",
       "</div>"
      ],
      "text/plain": [
       "  Scheme Name  Net Asset Value  Outstanding Number of Units  Nav Per Unit  \\\n",
       "0  Umoja Fund     3.022920e+11                  344671758.3      877.0422   \n",
       "1  Umoja Fund     3.020420e+11                  344671847.7      876.3168   \n",
       "2  Umoja Fund     3.020070e+11                  344681742.4      876.1918   \n",
       "3  Umoja Fund     3.020270e+11                  344753407.1      876.0658   \n",
       "4  Umoja Fund     3.018260e+11                  344721179.5      875.5668   \n",
       "\n",
       "   Sale Price per Unit  Repurchase Price/Unit Date Valued  \n",
       "0             877.0422               868.2718  12/30/2022  \n",
       "1             876.3168               867.5536  12/29/2022  \n",
       "2             876.1918               867.4299  12/28/2022  \n",
       "3             876.0658               867.3051  12/27/2022  \n",
       "4             875.5668               866.8112  12/23/2022  "
      ]
     },
     "execution_count": 173,
     "metadata": {},
     "output_type": "execute_result"
    }
   ],
   "source": [
    "data.head()"
   ]
  },
  {
   "cell_type": "code",
   "execution_count": 174,
   "id": "1e80e80c",
   "metadata": {},
   "outputs": [],
   "source": [
    "data['Net Asset Value'] = np.sqrt(data['Net Asset Value'])\n",
    "data['Outstanding Number of Units'] = np.sqrt(data['Outstanding Number of Units'])"
   ]
  },
  {
   "cell_type": "code",
   "execution_count": 175,
   "id": "45aa9c21",
   "metadata": {},
   "outputs": [
    {
     "data": {
      "image/png": "[encoded data removed]",
      "text/plain": [
       "<Figure size 1200x600 with 1 Axes>"
      ]
     },
     "metadata": {},
     "output_type": "display_data"
    }
   ],
   "source": [
    "# Time series plot of NAV\n",
    "plt.figure(figsize=(12, 6))\n",
    "plt.plot(data['Date Valued'], data['Net Asset Value'])\n",
    "plt.xlabel('Date Valued')\n",
    "plt.ylabel('Net Asset Value')\n",
    "plt.title('Net Asset Value Over Time')\n",
    "plt.xticks(rotation=45)\n",
    "plt.grid(True)\n",
    "plt.show()\n"
   ]
  },
  {
   "cell_type": "code",
   "execution_count": 176,
   "id": "9feb5d36",
   "metadata": {},
   "outputs": [],
   "source": [
    "data.set_index('Date Valued', inplace=True)"
   ]
  },
  {
   "cell_type": "code",
   "execution_count": 177,
   "id": "10f9db25",
   "metadata": {},
   "outputs": [
    {
     "data": {
      "text/html": [
       "<div>\n",
       "<style scoped>\n",
       "    .dataframe tbody tr th:only-of-type {\n",
       "        vertical-align: middle;\n",
       "    }\n",
       "\n",
       "    .dataframe tbody tr th {\n",
       "        vertical-align: top;\n",
       "    }\n",
       "\n",
       "    .dataframe thead th {\n",
       "        text-align: right;\n",
       "    }\n",
       "</style>\n",
       "<table border=\"1\" class=\"dataframe\">\n",
       "  <thead>\n",
       "    <tr style=\"text-align: right;\">\n",
       "      <th></th>\n",
       "      <th>Scheme Name</th>\n",
       "      <th>Net Asset Value</th>\n",
       "      <th>Outstanding Number of Units</th>\n",
       "      <th>Nav Per Unit</th>\n",
       "      <th>Sale Price per Unit</th>\n",
       "      <th>Repurchase Price/Unit</th>\n",
       "    </tr>\n",
       "    <tr>\n",
       "      <th>Date Valued</th>\n",
       "      <th></th>\n",
       "      <th></th>\n",
       "      <th></th>\n",
       "      <th></th>\n",
       "      <th></th>\n",
       "      <th></th>\n",
       "    </tr>\n",
       "  </thead>\n",
       "  <tbody>\n",
       "    <tr>\n",
       "      <th>12/30/2022</th>\n",
       "      <td>Umoja Fund</td>\n",
       "      <td>549810.876575</td>\n",
       "      <td>18565.337549</td>\n",
       "      <td>877.0422</td>\n",
       "      <td>877.0422</td>\n",
       "      <td>868.2718</td>\n",
       "    </tr>\n",
       "    <tr>\n",
       "      <th>12/29/2022</th>\n",
       "      <td>Umoja Fund</td>\n",
       "      <td>549583.478645</td>\n",
       "      <td>18565.339956</td>\n",
       "      <td>876.3168</td>\n",
       "      <td>876.3168</td>\n",
       "      <td>867.5536</td>\n",
       "    </tr>\n",
       "    <tr>\n",
       "      <th>12/28/2022</th>\n",
       "      <td>Umoja Fund</td>\n",
       "      <td>549551.635427</td>\n",
       "      <td>18565.606438</td>\n",
       "      <td>876.1918</td>\n",
       "      <td>876.1918</td>\n",
       "      <td>867.4299</td>\n",
       "    </tr>\n",
       "    <tr>\n",
       "      <th>12/27/2022</th>\n",
       "      <td>Umoja Fund</td>\n",
       "      <td>549569.831778</td>\n",
       "      <td>18567.536377</td>\n",
       "      <td>876.0658</td>\n",
       "      <td>876.0658</td>\n",
       "      <td>867.3051</td>\n",
       "    </tr>\n",
       "    <tr>\n",
       "      <th>12/23/2022</th>\n",
       "      <td>Umoja Fund</td>\n",
       "      <td>549386.931042</td>\n",
       "      <td>18566.668508</td>\n",
       "      <td>875.5668</td>\n",
       "      <td>875.5668</td>\n",
       "      <td>866.8112</td>\n",
       "    </tr>\n",
       "  </tbody>\n",
       "</table>\n",
       "</div>"
      ],
      "text/plain": [
       "            Scheme Name  Net Asset Value  Outstanding Number of Units  \\\n",
       "Date Valued                                                             \n",
       "12/30/2022   Umoja Fund    549810.876575                 18565.337549   \n",
       "12/29/2022   Umoja Fund    549583.478645                 18565.339956   \n",
       "12/28/2022   Umoja Fund    549551.635427                 18565.606438   \n",
       "12/27/2022   Umoja Fund    549569.831778                 18567.536377   \n",
       "12/23/2022   Umoja Fund    549386.931042                 18566.668508   \n",
       "\n",
       "             Nav Per Unit  Sale Price per Unit  Repurchase Price/Unit  \n",
       "Date Valued                                                            \n",
       "12/30/2022       877.0422             877.0422               868.2718  \n",
       "12/29/2022       876.3168             876.3168               867.5536  \n",
       "12/28/2022       876.1918             876.1918               867.4299  \n",
       "12/27/2022       876.0658             876.0658               867.3051  \n",
       "12/23/2022       875.5668             875.5668               866.8112  "
      ]
     },
     "execution_count": 177,
     "metadata": {},
     "output_type": "execute_result"
    }
   ],
   "source": [
    "data.head()"
   ]
  },
  {
   "cell_type": "code",
   "execution_count": 178,
   "id": "9b0da8f1",
   "metadata": {},
   "outputs": [
    {
     "data": {
      "text/plain": [
       "1332"
      ]
     },
     "execution_count": 178,
     "metadata": {},
     "output_type": "execute_result"
    }
   ],
   "source": [
    "df=data.filter(['Net Asset Value'])\n",
    "dataset=df.values\n",
    "training_data_len=math.ceil(len(dataset)*.8)\n",
    "training_data_len"
   ]
  },
  {
   "cell_type": "code",
   "execution_count": 179,
   "id": "72272a68",
   "metadata": {},
   "outputs": [
    {
     "data": {
      "text/html": [
       "<div>\n",
       "<style scoped>\n",
       "    .dataframe tbody tr th:only-of-type {\n",
       "        vertical-align: middle;\n",
       "    }\n",
       "\n",
       "    .dataframe tbody tr th {\n",
       "        vertical-align: top;\n",
       "    }\n",
       "\n",
       "    .dataframe thead th {\n",
       "        text-align: right;\n",
       "    }\n",
       "</style>\n",
       "<table border=\"1\" class=\"dataframe\">\n",
       "  <thead>\n",
       "    <tr style=\"text-align: right;\">\n",
       "      <th></th>\n",
       "      <th>Net Asset Value</th>\n",
       "    </tr>\n",
       "    <tr>\n",
       "      <th>Date Valued</th>\n",
       "      <th></th>\n",
       "    </tr>\n",
       "  </thead>\n",
       "  <tbody>\n",
       "    <tr>\n",
       "      <th>12/30/2022</th>\n",
       "      <td>549810.876575</td>\n",
       "    </tr>\n",
       "    <tr>\n",
       "      <th>12/29/2022</th>\n",
       "      <td>549583.478645</td>\n",
       "    </tr>\n",
       "    <tr>\n",
       "      <th>12/28/2022</th>\n",
       "      <td>549551.635427</td>\n",
       "    </tr>\n",
       "    <tr>\n",
       "      <th>12/27/2022</th>\n",
       "      <td>549569.831778</td>\n",
       "    </tr>\n",
       "    <tr>\n",
       "      <th>12/23/2022</th>\n",
       "      <td>549386.931042</td>\n",
       "    </tr>\n",
       "  </tbody>\n",
       "</table>\n",
       "</div>"
      ],
      "text/plain": [
       "             Net Asset Value\n",
       "Date Valued                 \n",
       "12/30/2022     549810.876575\n",
       "12/29/2022     549583.478645\n",
       "12/28/2022     549551.635427\n",
       "12/27/2022     549569.831778\n",
       "12/23/2022     549386.931042"
      ]
     },
     "execution_count": 179,
     "metadata": {},
     "output_type": "execute_result"
    }
   ],
   "source": [
    "df.head()"
   ]
  },
  {
   "cell_type": "code",
   "execution_count": 180,
   "id": "e0ccf1e9",
   "metadata": {},
   "outputs": [
    {
     "data": {
      "text/plain": [
       "array([[1.        ],\n",
       "       [0.99957101],\n",
       "       [0.99951094],\n",
       "       ...,\n",
       "       [0.82327051],\n",
       "       [0.82314228],\n",
       "       [0.82851746]])"
      ]
     },
     "execution_count": 180,
     "metadata": {},
     "output_type": "execute_result"
    }
   ],
   "source": [
    "## scale the data\n",
    "scaler= MinMaxScaler(feature_range=(0,1))\n",
    "scaled_data=scaler.fit_transform(dataset)\n",
    "scaled_data"
   ]
  },
  {
   "cell_type": "code",
   "execution_count": 181,
   "id": "2f962860",
   "metadata": {},
   "outputs": [
    {
     "name": "stdout",
     "output_type": "stream",
     "text": [
      "[[1.        ]\n",
      " [0.99957101]\n",
      " [0.99951094]\n",
      " [0.99954527]\n",
      " [0.99920022]]\n"
     ]
    }
   ],
   "source": [
    "#create the training set\n",
    "#create the scaled training set\n",
    "train_data=scaled_data[0:training_data_len, :]\n",
    "print(train_data[:5])"
   ]
  },
  {
   "cell_type": "code",
   "execution_count": 182,
   "id": "aeb8953d",
   "metadata": {},
   "outputs": [
    {
     "name": "stdout",
     "output_type": "stream",
     "text": [
      "[array([1.        , 0.99957101, 0.99951094, 0.99954527, 0.99920022,\n",
      "       0.99915043, 0.99932898, 0.99818674, 0.99797361, 0.99770714,\n",
      "       0.99790829, 0.9977484 , 0.99755582, 0.99739244, 0.99748531,\n",
      "       0.99449546, 0.99442992, 0.99522133, 0.99545915, 0.99528338,\n",
      "       0.99461964, 0.99450409, 0.99436782, 0.99340829, 0.99337894,\n",
      "       0.99297829, 0.99307501, 0.99276062, 0.99262931, 0.99253255,\n",
      "       0.99243923, 0.9927468 , 0.99275199, 0.99267424, 0.9927969 ,\n",
      "       0.99252909, 0.98864749, 0.98844972, 0.98863014, 0.98855728,\n",
      "       0.98904636, 0.98923188, 0.98925788, 0.989166  , 0.98983673,\n",
      "       0.98968598, 0.98966172, 0.98942255, 0.98944335, 0.98885562,\n",
      "       0.98747423, 0.98741519, 0.98795168, 0.98695487, 0.98693228,\n",
      "       0.98684888, 0.9868454 , 0.98673419, 0.98669248, 0.98643697])]\n",
      "[0.986509981099374]\n"
     ]
    }
   ],
   "source": [
    "#split the data into x_train and y_train\n",
    "x_train=[]\n",
    "y_train=[]\n",
    "for i in range(60,len(train_data)):\n",
    "    x_train.append(train_data[i-60:i,0])\n",
    "    y_train.append(train_data[i,0])\n",
    "    if i<=60:\n",
    "        print(x_train)\n",
    "        print(y_train)"
   ]
  },
  {
   "cell_type": "code",
   "execution_count": 183,
   "id": "3b71d2ba",
   "metadata": {},
   "outputs": [],
   "source": [
    "#convert the x_train and y_train into numpy array\n",
    "x_train,y_train=np.array(x_train),np.array(y_train)"
   ]
  },
  {
   "cell_type": "code",
   "execution_count": 184,
   "id": "9bde4dd1",
   "metadata": {},
   "outputs": [
    {
     "data": {
      "text/plain": [
       "(1272, 60, 1)"
      ]
     },
     "execution_count": 184,
     "metadata": {},
     "output_type": "execute_result"
    }
   ],
   "source": [
    "#reshape the data\n",
    "x_train=np.reshape(x_train,(x_train.shape[0],x_train.shape[1],1))\n",
    "x_train.shape"
   ]
  },
  {
   "cell_type": "code",
   "execution_count": 185,
   "id": "c7d045e0",
   "metadata": {},
   "outputs": [],
   "source": [
    "#buld LSTM model\n",
    "model=Sequential()\n",
    "model.add(LSTM(units=50, return_sequences=True, input_shape=(60, 1)))\n",
    "model.add(LSTM(50,return_sequences=False))\n",
    "model.add(Dense(25))\n",
    "model.add(Dense(1))"
   ]
  },
  {
   "cell_type": "code",
   "execution_count": 186,
   "id": "43c68f4c",
   "metadata": {},
   "outputs": [],
   "source": [
    "#complite the model\n",
    "model.compile(loss='mean_squared_error', optimizer='adam')"
   ]
  },
  {
   "cell_type": "code",
   "execution_count": 201,
   "id": "4e349df0",
   "metadata": {},
   "outputs": [
    {
     "name": "stdout",
     "output_type": "stream",
     "text": [
      "1272/1272 [==============================] - 48s 37ms/step - loss: 0.0013\n"
     ]
    },
    {
     "data": {
      "text/plain": [
       "<keras.src.callbacks.History at 0x26fcaaff310>"
      ]
     },
     "execution_count": 201,
     "metadata": {},
     "output_type": "execute_result"
    }
   ],
   "source": [
    "#train the model\n",
    "model.fit(x_train, y_train, batch_size=1, epochs=1)"
   ]
  },
  {
   "cell_type": "code",
   "execution_count": 202,
   "id": "cd4f5fd8",
   "metadata": {},
   "outputs": [],
   "source": [
    "# #create the testing dataset\n",
    "test_data=scaled_data[training_data_len-60:,:]\n",
    "x_test=[]\n",
    "y_test=dataset[training_data_len:,:]\n",
    "for i in range(60,len(test_data)):\n",
    "    x_test.append(test_data[i-60:i,0])"
   ]
  },
  {
   "cell_type": "code",
   "execution_count": 203,
   "id": "49485650",
   "metadata": {},
   "outputs": [],
   "source": [
    "#convert the data to numpy array\n",
    "x_test=np.array(x_test)"
   ]
  },
  {
   "cell_type": "code",
   "execution_count": 204,
   "id": "3be917f8",
   "metadata": {},
   "outputs": [
    {
     "data": {
      "text/plain": [
       "(332, 60, 1)"
      ]
     },
     "execution_count": 204,
     "metadata": {},
     "output_type": "execute_result"
    }
   ],
   "source": [
    "#reshape the data\n",
    "x_test=np.reshape(x_test,(x_test.shape[0],x_test.shape[1],1))\n",
    "x_test.shape"
   ]
  },
  {
   "cell_type": "code",
   "execution_count": 205,
   "id": "1b455f1e",
   "metadata": {},
   "outputs": [
    {
     "name": "stdout",
     "output_type": "stream",
     "text": [
      "11/11 [==============================] - 0s 19ms/step\n"
     ]
    },
    {
     "data": {
      "text/plain": [
       "array([[461196.  ],\n",
       "       [461192.16],\n",
       "       [461183.7 ],\n",
       "       [461169.78],\n",
       "       [461153.84],\n",
       "       [461136.2 ],\n",
       "       [461118.9 ],\n",
       "       [461116.25],\n",
       "       [461121.16],\n",
       "       [461031.22],\n",
       "       [460901.4 ],\n",
       "       [460751.4 ],\n",
       "       [460600.  ],\n",
       "       [460438.16],\n",
       "       [460282.94],\n",
       "       [460136.75],\n",
       "       [460006.06],\n",
       "       [459890.44],\n",
       "       [459791.88],\n",
       "       [459698.56],\n",
       "       [459615.9 ],\n",
       "       [459541.  ],\n",
       "       [459476.34],\n",
       "       [459405.84],\n",
       "       [459338.3 ],\n",
       "       [459175.66],\n",
       "       [458977.8 ],\n",
       "       [458768.72],\n",
       "       [458567.3 ],\n",
       "       [458373.53],\n",
       "       [458198.53],\n",
       "       [458049.94],\n",
       "       [457926.53],\n",
       "       [457845.97],\n",
       "       [457790.47],\n",
       "       [457754.03],\n",
       "       [457704.12],\n",
       "       [457652.38],\n",
       "       [457612.25],\n",
       "       [457580.8 ],\n",
       "       [457556.47],\n",
       "       [457537.72],\n",
       "       [457518.4 ],\n",
       "       [457500.5 ],\n",
       "       [457458.47],\n",
       "       [457407.66],\n",
       "       [457383.75],\n",
       "       [457374.62],\n",
       "       [457364.56],\n",
       "       [457355.78],\n",
       "       [457344.84],\n",
       "       [457333.66],\n",
       "       [457499.8 ],\n",
       "       [457741.94],\n",
       "       [458014.22],\n",
       "       [458286.2 ],\n",
       "       [458536.28],\n",
       "       [458757.  ],\n",
       "       [458935.38],\n",
       "       [459077.84],\n",
       "       [459191.03],\n",
       "       [459279.25],\n",
       "       [459341.34],\n",
       "       [459384.3 ],\n",
       "       [459407.03],\n",
       "       [459416.8 ],\n",
       "       [459422.94],\n",
       "       [459426.03],\n",
       "       [459414.28],\n",
       "       [459395.8 ],\n",
       "       [459371.  ],\n",
       "       [459344.53],\n",
       "       [459303.25],\n",
       "       [459257.53],\n",
       "       [459192.28],\n",
       "       [459121.88],\n",
       "       [459048.84],\n",
       "       [458979.6 ],\n",
       "       [458913.88],\n",
       "       [458854.94],\n",
       "       [458800.06],\n",
       "       [458751.66],\n",
       "       [458636.72],\n",
       "       [458497.5 ],\n",
       "       [458349.78],\n",
       "       [458207.06],\n",
       "       [458024.6 ],\n",
       "       [457836.1 ],\n",
       "       [457721.9 ],\n",
       "       [457652.5 ],\n",
       "       [457541.28],\n",
       "       [457420.25],\n",
       "       [457290.97],\n",
       "       [457166.44],\n",
       "       [457049.22],\n",
       "       [456944.5 ],\n",
       "       [456734.28],\n",
       "       [456487.72],\n",
       "       [456228.62],\n",
       "       [455979.75],\n",
       "       [455861.53],\n",
       "       [455817.7 ],\n",
       "       [455817.5 ],\n",
       "       [455843.75],\n",
       "       [455880.03],\n",
       "       [455920.16],\n",
       "       [455959.78],\n",
       "       [455996.53],\n",
       "       [456024.1 ],\n",
       "       [456044.8 ],\n",
       "       [456050.3 ],\n",
       "       [456047.4 ],\n",
       "       [456064.28],\n",
       "       [456089.34],\n",
       "       [456114.12],\n",
       "       [456137.53],\n",
       "       [456154.9 ],\n",
       "       [456168.1 ],\n",
       "       [456185.8 ],\n",
       "       [456204.12],\n",
       "       [456211.75],\n",
       "       [456213.3 ],\n",
       "       [456208.34],\n",
       "       [456200.12],\n",
       "       [456200.12],\n",
       "       [456204.03],\n",
       "       [456206.47],\n",
       "       [456208.2 ],\n",
       "       [456205.97],\n",
       "       [456201.8 ],\n",
       "       [456186.44],\n",
       "       [456166.47],\n",
       "       [456085.28],\n",
       "       [455975.84],\n",
       "       [455856.9 ],\n",
       "       [455744.06],\n",
       "       [455641.9 ],\n",
       "       [455547.12],\n",
       "       [455463.6 ],\n",
       "       [455377.9 ],\n",
       "       [455298.06],\n",
       "       [455223.62],\n",
       "       [455157.6 ],\n",
       "       [455102.  ],\n",
       "       [455056.12],\n",
       "       [455102.25],\n",
       "       [455191.38],\n",
       "       [455289.34],\n",
       "       [455383.62],\n",
       "       [455469.78],\n",
       "       [455551.53],\n",
       "       [455624.5 ],\n",
       "       [455672.44],\n",
       "       [455703.9 ],\n",
       "       [455485.16],\n",
       "       [455156.78],\n",
       "       [454779.8 ],\n",
       "       [454399.56],\n",
       "       [454045.3 ],\n",
       "       [453729.9 ],\n",
       "       [453464.97],\n",
       "       [453247.  ],\n",
       "       [453058.25],\n",
       "       [452900.6 ],\n",
       "       [452767.94],\n",
       "       [452659.12],\n",
       "       [452285.34],\n",
       "       [451808.  ],\n",
       "       [451295.4 ],\n",
       "       [450796.38],\n",
       "       [450334.56],\n",
       "       [449926.06],\n",
       "       [449595.  ],\n",
       "       [449330.12],\n",
       "       [449120.6 ],\n",
       "       [448957.88],\n",
       "       [448852.1 ],\n",
       "       [448785.16],\n",
       "       [448747.  ],\n",
       "       [448728.28],\n",
       "       [448718.62],\n",
       "       [448715.47],\n",
       "       [448705.47],\n",
       "       [448693.28],\n",
       "       [448682.97],\n",
       "       [448674.25],\n",
       "       [448663.38],\n",
       "       [448652.4 ],\n",
       "       [448637.56],\n",
       "       [448621.8 ],\n",
       "       [448496.44],\n",
       "       [448325.3 ],\n",
       "       [448127.72],\n",
       "       [447928.6 ],\n",
       "       [447739.97],\n",
       "       [447570.34],\n",
       "       [447434.2 ],\n",
       "       [447325.84],\n",
       "       [447237.44],\n",
       "       [447167.06],\n",
       "       [447108.3 ],\n",
       "       [447060.62],\n",
       "       [447015.38],\n",
       "       [446975.3 ],\n",
       "       [447053.38],\n",
       "       [447185.22],\n",
       "       [447337.62],\n",
       "       [447492.5 ],\n",
       "       [447641.22],\n",
       "       [447776.12],\n",
       "       [447889.66],\n",
       "       [447983.34],\n",
       "       [448047.72],\n",
       "       [448091.53],\n",
       "       [448127.88],\n",
       "       [448156.66],\n",
       "       [448175.34],\n",
       "       [448187.16],\n",
       "       [448188.78],\n",
       "       [448184.78],\n",
       "       [448304.47],\n",
       "       [448477.03],\n",
       "       [448659.  ],\n",
       "       [448835.47],\n",
       "       [448993.4 ],\n",
       "       [449130.  ],\n",
       "       [449241.66],\n",
       "       [449331.3 ],\n",
       "       [449416.1 ],\n",
       "       [449490.9 ],\n",
       "       [449493.72],\n",
       "       [449615.28],\n",
       "       [449783.47],\n",
       "       [449955.66],\n",
       "       [450120.1 ],\n",
       "       [450277.5 ],\n",
       "       [450419.4 ],\n",
       "       [450530.78],\n",
       "       [450617.84],\n",
       "       [450680.7 ],\n",
       "       [450725.38],\n",
       "       [450776.5 ],\n",
       "       [450826.1 ],\n",
       "       [450868.28],\n",
       "       [450903.5 ],\n",
       "       [450913.78],\n",
       "       [450910.3 ],\n",
       "       [450950.5 ],\n",
       "       [451008.7 ],\n",
       "       [451069.88],\n",
       "       [451129.2 ],\n",
       "       [451179.28],\n",
       "       [451220.9 ],\n",
       "       [451240.4 ],\n",
       "       [451246.75],\n",
       "       [451256.8 ],\n",
       "       [451267.12],\n",
       "       [451272.66],\n",
       "       [451275.3 ],\n",
       "       [451272.3 ],\n",
       "       [451266.47],\n",
       "       [451262.34],\n",
       "       [451259.2 ],\n",
       "       [451252.78],\n",
       "       [451245.4 ],\n",
       "       [451230.12],\n",
       "       [451211.94],\n",
       "       [451231.03],\n",
       "       [451267.1 ],\n",
       "       [451303.84],\n",
       "       [451339.1 ],\n",
       "       [451361.8 ],\n",
       "       [451376.47],\n",
       "       [451381.38],\n",
       "       [451380.6 ],\n",
       "       [451372.12],\n",
       "       [451395.  ],\n",
       "       [451427.53],\n",
       "       [451451.47],\n",
       "       [451493.6 ],\n",
       "       [451541.2 ],\n",
       "       [451585.44],\n",
       "       [451621.1 ],\n",
       "       [451523.9 ],\n",
       "       [451365.8 ],\n",
       "       [451178.1 ],\n",
       "       [451011.28],\n",
       "       [450859.6 ],\n",
       "       [450716.44],\n",
       "       [450583.34],\n",
       "       [450465.62],\n",
       "       [450378.28],\n",
       "       [450309.8 ],\n",
       "       [450247.44],\n",
       "       [449968.94],\n",
       "       [449597.84],\n",
       "       [449204.2 ],\n",
       "       [448622.6 ],\n",
       "       [447977.47],\n",
       "       [447333.56],\n",
       "       [446771.5 ],\n",
       "       [446287.84],\n",
       "       [446170.62],\n",
       "       [446272.25],\n",
       "       [446490.9 ],\n",
       "       [446760.8 ],\n",
       "       [447059.  ],\n",
       "       [447348.  ],\n",
       "       [447602.06],\n",
       "       [448212.62],\n",
       "       [448969.44],\n",
       "       [449758.2 ],\n",
       "       [450513.75],\n",
       "       [451195.88],\n",
       "       [451788.28],\n",
       "       [452284.34],\n",
       "       [453010.88],\n",
       "       [453789.6 ],\n",
       "       [454566.75],\n",
       "       [455278.16],\n",
       "       [455900.75],\n",
       "       [456444.44],\n",
       "       [456906.6 ],\n",
       "       [457285.2 ],\n",
       "       [457578.53],\n",
       "       [457981.25],\n",
       "       [458236.5 ],\n",
       "       [458401.1 ],\n",
       "       [458480.78],\n",
       "       [458509.06],\n",
       "       [458516.78],\n",
       "       [458506.06]], dtype=float32)"
      ]
     },
     "execution_count": 205,
     "metadata": {},
     "output_type": "execute_result"
    }
   ],
   "source": [
    "#get the model prediction\n",
    "predictions=model.predict(x_test)\n",
    "predictions=scaler.inverse_transform(predictions)\n",
    "predictions"
   ]
  },
  {
   "cell_type": "code",
   "execution_count": 206,
   "id": "426c8fea",
   "metadata": {},
   "outputs": [
    {
     "name": "stdout",
     "output_type": "stream",
     "text": [
      "Mean Squared Error (MSE): 9870746.433252929\n",
      "R-squared (R2): 0.5729122497964998\n",
      "Mean Absolute Error (MAE): 2888.058395820454\n",
      "Root Mean Squared Error (RMSE): 3141.774408396142\n"
     ]
    }
   ],
   "source": [
    "from sklearn.metrics import mean_squared_error, r2_score, mean_absolute_error\n",
    "\n",
    "# Calculate Mean Squared Error (MSE)\n",
    "mse = mean_squared_error(y_test, predictions)\n",
    "\n",
    "# Calculate R-squared (R2)\n",
    "r2 = r2_score(y_test, predictions)\n",
    "\n",
    "# Calculate Mean Absolute Error (MAE)\n",
    "mae = mean_absolute_error(y_test, predictions)\n",
    "\n",
    "# Calculate Mean Absolute Percentage Error (MAPE)\n",
    "mape = np.mean(np.abs((y_test - predictions) / y_test)) * 100\n",
    "\n",
    "# Calculate Root Mean Squared Error (RMSE)\n",
    "rmse = np.sqrt(mse)\n",
    "\n",
    "print(f\"Mean Squared Error (MSE): {mse}\")\n",
    "print(f\"R-squared (R2): {r2}\")\n",
    "print(f\"Mean Absolute Error (MAE): {mae}\")\n",
    "# print(f\"Mean Absolute Percentage Error (MAPE): {mape}%\")\n",
    "print(f\"Root Mean Squared Error (RMSE): {rmse}\")\n"
   ]
  },
  {
   "cell_type": "code",
   "execution_count": 207,
   "id": "184d1b2f",
   "metadata": {
    "scrolled": true
   },
   "outputs": [
    {
     "name": "stderr",
     "output_type": "stream",
     "text": [
      "C:\\Users\\roma\\AppData\\Local\\Temp\\ipykernel_8516\\3983594056.py:3: SettingWithCopyWarning: \n",
      "A value is trying to be set on a copy of a slice from a DataFrame.\n",
      "Try using .loc[row_indexer,col_indexer] = value instead\n",
      "\n",
      "See the caveats in the documentation: https://pandas.pydata.org/pandas-docs/stable/user_guide/indexing.html#returning-a-view-versus-a-copy\n",
      "  valid['Predictions'] = predictions\n"
     ]
    }
   ],
   "source": [
    "train = df[:training_data_len]\n",
    "valid = df[training_data_len:]\n",
    "valid['Predictions'] = predictions"
   ]
  },
  {
   "cell_type": "code",
   "execution_count": 208,
   "id": "1b212334",
   "metadata": {},
   "outputs": [
    {
     "data": {
      "image/png": "[encoded data removed]",
      "text/plain": [
       "<Figure size 1200x600 with 1 Axes>"
      ]
     },
     "metadata": {},
     "output_type": "display_data"
    }
   ],
   "source": [
    "plt.figure(figsize=(12, 6))\n",
    "plt.title('Net Asset Value vs. Predictions')\n",
    "plt.xlabel('Time')\n",
    "plt.ylabel('Net Asset Value')\n",
    "plt.plot(train['Net Asset Value'], label='Training Data')\n",
    "plt.plot(valid['Net Asset Value'], label='Actual Data')\n",
    "plt.plot(valid['Predictions'], label='Predictions', linestyle='--')\n",
    "plt.legend()\n",
    "plt.show()"
   ]
  },
  {
   "cell_type": "code",
   "execution_count": 209,
   "id": "3b281bfa",
   "metadata": {},
   "outputs": [
    {
     "data": {
      "text/html": [
       "<div>\n",
       "<style scoped>\n",
       "    .dataframe tbody tr th:only-of-type {\n",
       "        vertical-align: middle;\n",
       "    }\n",
       "\n",
       "    .dataframe tbody tr th {\n",
       "        vertical-align: top;\n",
       "    }\n",
       "\n",
       "    .dataframe thead th {\n",
       "        text-align: right;\n",
       "    }\n",
       "</style>\n",
       "<table border=\"1\" class=\"dataframe\">\n",
       "  <thead>\n",
       "    <tr style=\"text-align: right;\">\n",
       "      <th></th>\n",
       "      <th>Net Asset Value</th>\n",
       "    </tr>\n",
       "    <tr>\n",
       "      <th>Date Valued</th>\n",
       "      <th></th>\n",
       "    </tr>\n",
       "  </thead>\n",
       "  <tbody>\n",
       "    <tr>\n",
       "      <th>12/30/2022</th>\n",
       "      <td>549810.876575</td>\n",
       "    </tr>\n",
       "    <tr>\n",
       "      <th>12/29/2022</th>\n",
       "      <td>549583.478645</td>\n",
       "    </tr>\n",
       "    <tr>\n",
       "      <th>12/28/2022</th>\n",
       "      <td>549551.635427</td>\n",
       "    </tr>\n",
       "    <tr>\n",
       "      <th>12/27/2022</th>\n",
       "      <td>549569.831778</td>\n",
       "    </tr>\n",
       "    <tr>\n",
       "      <th>12/23/2022</th>\n",
       "      <td>549386.931042</td>\n",
       "    </tr>\n",
       "    <tr>\n",
       "      <th>...</th>\n",
       "      <td>...</td>\n",
       "    </tr>\n",
       "    <tr>\n",
       "      <th>10/24/2017</th>\n",
       "      <td>459347.363114</td>\n",
       "    </tr>\n",
       "    <tr>\n",
       "      <th>10/23/2017</th>\n",
       "      <td>459296.200725</td>\n",
       "    </tr>\n",
       "    <tr>\n",
       "      <th>10/23/2017</th>\n",
       "      <td>459296.200725</td>\n",
       "    </tr>\n",
       "    <tr>\n",
       "      <th>10/20/2017</th>\n",
       "      <td>459240.677641</td>\n",
       "    </tr>\n",
       "    <tr>\n",
       "      <th>10/20/2017</th>\n",
       "      <td>459240.677641</td>\n",
       "    </tr>\n",
       "  </tbody>\n",
       "</table>\n",
       "<p>1332 rows × 1 columns</p>\n",
       "</div>"
      ],
      "text/plain": [
       "             Net Asset Value\n",
       "Date Valued                 \n",
       "12/30/2022     549810.876575\n",
       "12/29/2022     549583.478645\n",
       "12/28/2022     549551.635427\n",
       "12/27/2022     549569.831778\n",
       "12/23/2022     549386.931042\n",
       "...                      ...\n",
       "10/24/2017     459347.363114\n",
       "10/23/2017     459296.200725\n",
       "10/23/2017     459296.200725\n",
       "10/20/2017     459240.677641\n",
       "10/20/2017     459240.677641\n",
       "\n",
       "[1332 rows x 1 columns]"
      ]
     },
     "execution_count": 209,
     "metadata": {},
     "output_type": "execute_result"
    }
   ],
   "source": [
    "train"
   ]
  },
  {
   "cell_type": "code",
   "execution_count": 210,
   "id": "7d3fd746",
   "metadata": {},
   "outputs": [
    {
     "data": {
      "image/png": "[encoded data removed]",
      "text/plain": [
       "<Figure size 1200x600 with 1 Axes>"
      ]
     },
     "metadata": {},
     "output_type": "display_data"
    }
   ],
   "source": [
    "import matplotlib.pyplot as plt\n",
    "\n",
    "# Assuming 'valid' is a DataFrame containing 'Net Asset Value' and 'Predictions' columns\n",
    "plt.figure(figsize=(12, 6))\n",
    "plt.title('Actual vs. Predicted Net Asset Value')\n",
    "plt.xlabel('Time')\n",
    "plt.ylabel('Net Asset Value')\n",
    "\n",
    "# Plot the actual 'Net Asset Value' in blue\n",
    "plt.plot(valid['Net Asset Value'], label='Actual NAV', color='blue')\n",
    "\n",
    "# Plot the 'Predictions' in red\n",
    "plt.plot(valid['Predictions'], label='Predicted NAV', color='red')\n",
    "\n",
    "plt.legend()\n",
    "plt.show()\n"
   ]
  },
  {
   "cell_type": "code",
   "execution_count": 211,
   "id": "3e720485",
   "metadata": {},
   "outputs": [
    {
     "data": {
      "text/html": [
       "<div>\n",
       "<style scoped>\n",
       "    .dataframe tbody tr th:only-of-type {\n",
       "        vertical-align: middle;\n",
       "    }\n",
       "\n",
       "    .dataframe tbody tr th {\n",
       "        vertical-align: top;\n",
       "    }\n",
       "\n",
       "    .dataframe thead th {\n",
       "        text-align: right;\n",
       "    }\n",
       "</style>\n",
       "<table border=\"1\" class=\"dataframe\">\n",
       "  <thead>\n",
       "    <tr style=\"text-align: right;\">\n",
       "      <th></th>\n",
       "      <th>Net Asset Value</th>\n",
       "      <th>Predictions</th>\n",
       "    </tr>\n",
       "    <tr>\n",
       "      <th>Date Valued</th>\n",
       "      <th></th>\n",
       "      <th></th>\n",
       "    </tr>\n",
       "  </thead>\n",
       "  <tbody>\n",
       "    <tr>\n",
       "      <th>10/19/2017</th>\n",
       "      <td>459169.903195</td>\n",
       "      <td>461196.00000</td>\n",
       "    </tr>\n",
       "    <tr>\n",
       "      <th>10/19/2017</th>\n",
       "      <td>459169.903195</td>\n",
       "      <td>461192.15625</td>\n",
       "    </tr>\n",
       "    <tr>\n",
       "      <th>10/18/2017</th>\n",
       "      <td>459120.899110</td>\n",
       "      <td>461183.68750</td>\n",
       "    </tr>\n",
       "    <tr>\n",
       "      <th>10/18/2017</th>\n",
       "      <td>459120.899110</td>\n",
       "      <td>461169.78125</td>\n",
       "    </tr>\n",
       "    <tr>\n",
       "      <th>10/17/2017</th>\n",
       "      <td>459096.939654</td>\n",
       "      <td>461153.84375</td>\n",
       "    </tr>\n",
       "    <tr>\n",
       "      <th>...</th>\n",
       "      <td>...</td>\n",
       "      <td>...</td>\n",
       "    </tr>\n",
       "    <tr>\n",
       "      <th>1/6/2017</th>\n",
       "      <td>455916.659051</td>\n",
       "      <td>458401.09375</td>\n",
       "    </tr>\n",
       "    <tr>\n",
       "      <th>1/5/2017</th>\n",
       "      <td>455947.365383</td>\n",
       "      <td>458480.78125</td>\n",
       "    </tr>\n",
       "    <tr>\n",
       "      <th>1/4/2017</th>\n",
       "      <td>456130.463793</td>\n",
       "      <td>458509.06250</td>\n",
       "    </tr>\n",
       "    <tr>\n",
       "      <th>1/3/2017</th>\n",
       "      <td>456062.495717</td>\n",
       "      <td>458516.78125</td>\n",
       "    </tr>\n",
       "    <tr>\n",
       "      <th>1/2/2017</th>\n",
       "      <td>458911.756223</td>\n",
       "      <td>458506.06250</td>\n",
       "    </tr>\n",
       "  </tbody>\n",
       "</table>\n",
       "<p>332 rows × 2 columns</p>\n",
       "</div>"
      ],
      "text/plain": [
       "             Net Asset Value   Predictions\n",
       "Date Valued                               \n",
       "10/19/2017     459169.903195  461196.00000\n",
       "10/19/2017     459169.903195  461192.15625\n",
       "10/18/2017     459120.899110  461183.68750\n",
       "10/18/2017     459120.899110  461169.78125\n",
       "10/17/2017     459096.939654  461153.84375\n",
       "...                      ...           ...\n",
       "1/6/2017       455916.659051  458401.09375\n",
       "1/5/2017       455947.365383  458480.78125\n",
       "1/4/2017       456130.463793  458509.06250\n",
       "1/3/2017       456062.495717  458516.78125\n",
       "1/2/2017       458911.756223  458506.06250\n",
       "\n",
       "[332 rows x 2 columns]"
      ]
     },
     "execution_count": 211,
     "metadata": {},
     "output_type": "execute_result"
    }
   ],
   "source": [
    "valid"
   ]
  },
  {
   "cell_type": "code",
   "execution_count": 212,
   "id": "822d2399",
   "metadata": {},
   "outputs": [],
   "source": [
    "from sklearn.ensemble import RandomForestRegressor\n",
    "features = ['Outstanding Number of Units', 'Nav Per Unit', 'Sale Price per Unit', 'Repurchase Price/Unit']\n",
    "target = 'Net Asset Value'\n",
    "\n",
    "X = data[features]\n",
    "y = data[target]\n",
    "\n",
    "# Initialize and train the Random Forest model\n",
    "rf_model = RandomForestRegressor(n_estimators=100, random_state=0)\n",
    "rf_model.fit(X, y)\n",
    "\n",
    "# Make predictions using the Random Forest model\n",
    "rf_predictions = rf_model.predict(X)\n"
   ]
  },
  {
   "cell_type": "code",
   "execution_count": 213,
   "id": "39c9a2ed",
   "metadata": {},
   "outputs": [
    {
     "name": "stdout",
     "output_type": "stream",
     "text": [
      "Root Mean Squared Error (RMSE): 4398.806962788973\n",
      "Mean Squared Error (MSE): 19349502.69588075\n",
      "R-squared (R2): 0.9797928677578976\n"
     ]
    }
   ],
   "source": [
    "from sklearn.metrics import mean_squared_error, r2_score\n",
    "\n",
    "# Calculate predictions using the Random Forest model\n",
    "rf_predictions = rf_model.predict(X)\n",
    "\n",
    "# Calculate RMSE\n",
    "rmse = mean_squared_error(y, rf_predictions, squared=False)\n",
    "\n",
    "# Calculate MSE\n",
    "mse = mean_squared_error(y, rf_predictions)\n",
    "\n",
    "# Calculate R-squared (R2)\n",
    "r2 = r2_score(y, rf_predictions)\n",
    "\n",
    "print(f\"Root Mean Squared Error (RMSE): {rmse}\")\n",
    "print(f\"Mean Squared Error (MSE): {mse}\")\n",
    "print(f\"R-squared (R2): {r2}\")"
   ]
  },
  {
   "cell_type": "code",
   "execution_count": 214,
   "id": "4fc49e23",
   "metadata": {},
   "outputs": [
    {
     "data": {
      "image/png": "[encoded data removed]",
      "text/plain": [
       "<Figure size 1000x600 with 1 Axes>"
      ]
     },
     "metadata": {},
     "output_type": "display_data"
    }
   ],
   "source": [
    "\n",
    "rf_predictions = rf_model.predict(X)\n",
    "\n",
    "# Create a DataFrame with actual and predicted values\n",
    "results = pd.DataFrame({'Actual': y, 'Predicted': rf_predictions})\n",
    "\n",
    "# Plot actual and predicted values on the same axis\n",
    "plt.figure(figsize=(10, 6))\n",
    "plt.plot(results.index, results['Actual'], label='Actual', marker='o', linestyle='-', color='blue')\n",
    "plt.plot(results.index, results['Predicted'], label='Predicted', marker='x', linestyle='--', color='green')\n",
    "plt.xlabel('Data Point')\n",
    "plt.ylabel('Values')\n",
    "plt.title('Actual vs. Predicted Values (Random Forest)')\n",
    "plt.grid(True)\n",
    "plt.legend()\n",
    "plt.show()\n"
   ]
  },
  {
   "cell_type": "code",
   "execution_count": null,
   "id": "a81c5d63",
   "metadata": {},
   "outputs": [],
   "source": []
  }
 ],
 "metadata": {
  "kernelspec": {
   "display_name": "Python 3 (ipykernel)",
   "language": "python",
   "name": "python3"
  },
  "language_info": {
   "codemirror_mode": {
    "name": "ipython",
    "version": 3
   },
   "file_extension": ".py",
   "mimetype": "text/x-python",
   "name": "python",
   "nbconvert_exporter": "python",
   "pygments_lexer": "ipython3",
   "version": "3.11.2"
  }
 },
 "nbformat": 4,
 "nbformat_minor": 5
}
