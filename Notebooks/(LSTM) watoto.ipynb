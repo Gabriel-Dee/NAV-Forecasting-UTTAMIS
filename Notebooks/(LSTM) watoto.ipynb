{
 "cells": [
  {
   "cell_type": "code",
   "execution_count": 1,
   "id": "4863403f",
   "metadata": {},
   "outputs": [],
   "source": [
    "import math\n",
    "import pandas as pd\n",
    "import numpy as np\n",
    "from sklearn.preprocessing import MinMaxScaler\n",
    "from keras.models import Sequential\n",
    "from keras.layers import Dense, LSTM\n",
    "import seaborn as sns\n",
    "import matplotlib.pyplot as plt"
   ]
  },
  {
   "cell_type": "code",
   "execution_count": 81,
   "id": "d139c796",
   "metadata": {},
   "outputs": [
    {
     "data": {
      "text/html": [
       "<div>\n",
       "<style scoped>\n",
       "    .dataframe tbody tr th:only-of-type {\n",
       "        vertical-align: middle;\n",
       "    }\n",
       "\n",
       "    .dataframe tbody tr th {\n",
       "        vertical-align: top;\n",
       "    }\n",
       "\n",
       "    .dataframe thead th {\n",
       "        text-align: right;\n",
       "    }\n",
       "</style>\n",
       "<table border=\"1\" class=\"dataframe\">\n",
       "  <thead>\n",
       "    <tr style=\"text-align: right;\">\n",
       "      <th></th>\n",
       "      <th>Scheme Name</th>\n",
       "      <th>Net Asset Value</th>\n",
       "      <th>Outstanding Number of Units</th>\n",
       "      <th>Nav Per Unit</th>\n",
       "      <th>Sale Price per Unit</th>\n",
       "      <th>Repurchase Price/Unit</th>\n",
       "      <th>Date Valued</th>\n",
       "    </tr>\n",
       "  </thead>\n",
       "  <tbody>\n",
       "    <tr>\n",
       "      <th>0</th>\n",
       "      <td>Watoto Fund</td>\n",
       "      <td>8426930098</td>\n",
       "      <td>15378315.70</td>\n",
       "      <td>547.9748</td>\n",
       "      <td>547.9748</td>\n",
       "      <td>542.4951</td>\n",
       "      <td>12/30/2022</td>\n",
       "    </tr>\n",
       "    <tr>\n",
       "      <th>1</th>\n",
       "      <td>Watoto Fund</td>\n",
       "      <td>8411487438</td>\n",
       "      <td>15359492.50</td>\n",
       "      <td>547.6410</td>\n",
       "      <td>547.6410</td>\n",
       "      <td>542.1646</td>\n",
       "      <td>12/29/2022</td>\n",
       "    </tr>\n",
       "    <tr>\n",
       "      <th>2</th>\n",
       "      <td>Watoto Fund</td>\n",
       "      <td>8401340188</td>\n",
       "      <td>15344420.53</td>\n",
       "      <td>547.5176</td>\n",
       "      <td>547.5176</td>\n",
       "      <td>542.0424</td>\n",
       "      <td>12/28/2022</td>\n",
       "    </tr>\n",
       "    <tr>\n",
       "      <th>3</th>\n",
       "      <td>Watoto Fund</td>\n",
       "      <td>8407602264</td>\n",
       "      <td>15359370.72</td>\n",
       "      <td>547.3924</td>\n",
       "      <td>547.3924</td>\n",
       "      <td>541.9184</td>\n",
       "      <td>12/27/2022</td>\n",
       "    </tr>\n",
       "    <tr>\n",
       "      <th>4</th>\n",
       "      <td>Watoto Fund</td>\n",
       "      <td>8368494656</td>\n",
       "      <td>15301682.75</td>\n",
       "      <td>546.9003</td>\n",
       "      <td>546.9003</td>\n",
       "      <td>541.4313</td>\n",
       "      <td>12/23/2022</td>\n",
       "    </tr>\n",
       "  </tbody>\n",
       "</table>\n",
       "</div>"
      ],
      "text/plain": [
       "   Scheme Name  Net Asset Value  Outstanding Number of Units  Nav Per Unit  \\\n",
       "0  Watoto Fund       8426930098                  15378315.70      547.9748   \n",
       "1  Watoto Fund       8411487438                  15359492.50      547.6410   \n",
       "2  Watoto Fund       8401340188                  15344420.53      547.5176   \n",
       "3  Watoto Fund       8407602264                  15359370.72      547.3924   \n",
       "4  Watoto Fund       8368494656                  15301682.75      546.9003   \n",
       "\n",
       "   Sale Price per Unit  Repurchase Price/Unit Date Valued  \n",
       "0             547.9748               542.4951  12/30/2022  \n",
       "1             547.6410               542.1646  12/29/2022  \n",
       "2             547.5176               542.0424  12/28/2022  \n",
       "3             547.3924               541.9184  12/27/2022  \n",
       "4             546.9003               541.4313  12/23/2022  "
      ]
     },
     "execution_count": 81,
     "metadata": {},
     "output_type": "execute_result"
    }
   ],
   "source": [
    "data=pd.read_csv('Watoto_data.csv')\n",
    "data.head()"
   ]
  },
  {
   "cell_type": "code",
   "execution_count": 82,
   "id": "bc1a320b",
   "metadata": {},
   "outputs": [
    {
     "data": {
      "text/plain": [
       "(1656, 7)"
      ]
     },
     "execution_count": 82,
     "metadata": {},
     "output_type": "execute_result"
    }
   ],
   "source": [
    "data.shape"
   ]
  },
  {
   "cell_type": "code",
   "execution_count": 83,
   "id": "f23a93ef",
   "metadata": {},
   "outputs": [
    {
     "data": {
      "text/html": [
       "<div>\n",
       "<style scoped>\n",
       "    .dataframe tbody tr th:only-of-type {\n",
       "        vertical-align: middle;\n",
       "    }\n",
       "\n",
       "    .dataframe tbody tr th {\n",
       "        vertical-align: top;\n",
       "    }\n",
       "\n",
       "    .dataframe thead th {\n",
       "        text-align: right;\n",
       "    }\n",
       "</style>\n",
       "<table border=\"1\" class=\"dataframe\">\n",
       "  <thead>\n",
       "    <tr style=\"text-align: right;\">\n",
       "      <th></th>\n",
       "      <th>Scheme Name</th>\n",
       "      <th>Net Asset Value</th>\n",
       "      <th>Outstanding Number of Units</th>\n",
       "      <th>Nav Per Unit</th>\n",
       "      <th>Sale Price per Unit</th>\n",
       "      <th>Repurchase Price/Unit</th>\n",
       "      <th>Date Valued</th>\n",
       "    </tr>\n",
       "  </thead>\n",
       "  <tbody>\n",
       "    <tr>\n",
       "      <th>0</th>\n",
       "      <td>Watoto Fund</td>\n",
       "      <td>8426930098</td>\n",
       "      <td>15378315.70</td>\n",
       "      <td>547.9748</td>\n",
       "      <td>547.9748</td>\n",
       "      <td>542.4951</td>\n",
       "      <td>12/30/2022</td>\n",
       "    </tr>\n",
       "    <tr>\n",
       "      <th>1</th>\n",
       "      <td>Watoto Fund</td>\n",
       "      <td>8411487438</td>\n",
       "      <td>15359492.50</td>\n",
       "      <td>547.6410</td>\n",
       "      <td>547.6410</td>\n",
       "      <td>542.1646</td>\n",
       "      <td>12/29/2022</td>\n",
       "    </tr>\n",
       "    <tr>\n",
       "      <th>2</th>\n",
       "      <td>Watoto Fund</td>\n",
       "      <td>8401340188</td>\n",
       "      <td>15344420.53</td>\n",
       "      <td>547.5176</td>\n",
       "      <td>547.5176</td>\n",
       "      <td>542.0424</td>\n",
       "      <td>12/28/2022</td>\n",
       "    </tr>\n",
       "    <tr>\n",
       "      <th>3</th>\n",
       "      <td>Watoto Fund</td>\n",
       "      <td>8407602264</td>\n",
       "      <td>15359370.72</td>\n",
       "      <td>547.3924</td>\n",
       "      <td>547.3924</td>\n",
       "      <td>541.9184</td>\n",
       "      <td>12/27/2022</td>\n",
       "    </tr>\n",
       "    <tr>\n",
       "      <th>4</th>\n",
       "      <td>Watoto Fund</td>\n",
       "      <td>8368494656</td>\n",
       "      <td>15301682.75</td>\n",
       "      <td>546.9003</td>\n",
       "      <td>546.9003</td>\n",
       "      <td>541.4313</td>\n",
       "      <td>12/23/2022</td>\n",
       "    </tr>\n",
       "  </tbody>\n",
       "</table>\n",
       "</div>"
      ],
      "text/plain": [
       "   Scheme Name  Net Asset Value  Outstanding Number of Units  Nav Per Unit  \\\n",
       "0  Watoto Fund       8426930098                  15378315.70      547.9748   \n",
       "1  Watoto Fund       8411487438                  15359492.50      547.6410   \n",
       "2  Watoto Fund       8401340188                  15344420.53      547.5176   \n",
       "3  Watoto Fund       8407602264                  15359370.72      547.3924   \n",
       "4  Watoto Fund       8368494656                  15301682.75      546.9003   \n",
       "\n",
       "   Sale Price per Unit  Repurchase Price/Unit Date Valued  \n",
       "0             547.9748               542.4951  12/30/2022  \n",
       "1             547.6410               542.1646  12/29/2022  \n",
       "2             547.5176               542.0424  12/28/2022  \n",
       "3             547.3924               541.9184  12/27/2022  \n",
       "4             546.9003               541.4313  12/23/2022  "
      ]
     },
     "execution_count": 83,
     "metadata": {},
     "output_type": "execute_result"
    }
   ],
   "source": [
    "data.head()"
   ]
  },
  {
   "cell_type": "code",
   "execution_count": 84,
   "id": "98b205a0",
   "metadata": {},
   "outputs": [],
   "source": [
    "data['Net Asset Value'] = np.sqrt(data['Net Asset Value'])\n",
    "data['Outstanding Number of Units'] = np.sqrt(data['Outstanding Number of Units'])"
   ]
  },
  {
   "cell_type": "code",
   "execution_count": 85,
   "id": "45aa9c21",
   "metadata": {},
   "outputs": [
    {
     "data": {
      "image/png": "[encoded data removed]",
      "text/plain": [
       "<Figure size 1200x600 with 1 Axes>"
      ]
     },
     "metadata": {},
     "output_type": "display_data"
    }
   ],
   "source": [
    "# Time series plot of NAV\n",
    "plt.figure(figsize=(12, 6))\n",
    "plt.plot(data['Date Valued'], data['Net Asset Value'])\n",
    "plt.xlabel('Date Valued')\n",
    "plt.ylabel('Net Asset Value')\n",
    "plt.title('Net Asset Value Over Time')\n",
    "plt.xticks(rotation=45)\n",
    "plt.grid(True)\n",
    "plt.show()\n"
   ]
  },
  {
   "cell_type": "code",
   "execution_count": 86,
   "id": "9feb5d36",
   "metadata": {},
   "outputs": [],
   "source": [
    "data.set_index('Date Valued', inplace=True)"
   ]
  },
  {
   "cell_type": "code",
   "execution_count": 87,
   "id": "10f9db25",
   "metadata": {},
   "outputs": [
    {
     "data": {
      "text/html": [
       "<div>\n",
       "<style scoped>\n",
       "    .dataframe tbody tr th:only-of-type {\n",
       "        vertical-align: middle;\n",
       "    }\n",
       "\n",
       "    .dataframe tbody tr th {\n",
       "        vertical-align: top;\n",
       "    }\n",
       "\n",
       "    .dataframe thead th {\n",
       "        text-align: right;\n",
       "    }\n",
       "</style>\n",
       "<table border=\"1\" class=\"dataframe\">\n",
       "  <thead>\n",
       "    <tr style=\"text-align: right;\">\n",
       "      <th></th>\n",
       "      <th>Scheme Name</th>\n",
       "      <th>Net Asset Value</th>\n",
       "      <th>Outstanding Number of Units</th>\n",
       "      <th>Nav Per Unit</th>\n",
       "      <th>Sale Price per Unit</th>\n",
       "      <th>Repurchase Price/Unit</th>\n",
       "    </tr>\n",
       "    <tr>\n",
       "      <th>Date Valued</th>\n",
       "      <th></th>\n",
       "      <th></th>\n",
       "      <th></th>\n",
       "      <th></th>\n",
       "      <th></th>\n",
       "      <th></th>\n",
       "    </tr>\n",
       "  </thead>\n",
       "  <tbody>\n",
       "    <tr>\n",
       "      <th>12/30/2022</th>\n",
       "      <td>Watoto Fund</td>\n",
       "      <td>91798.312065</td>\n",
       "      <td>3921.519565</td>\n",
       "      <td>547.9748</td>\n",
       "      <td>547.9748</td>\n",
       "      <td>542.4951</td>\n",
       "    </tr>\n",
       "    <tr>\n",
       "      <th>12/29/2022</th>\n",
       "      <td>Watoto Fund</td>\n",
       "      <td>91714.161600</td>\n",
       "      <td>3919.118842</td>\n",
       "      <td>547.6410</td>\n",
       "      <td>547.6410</td>\n",
       "      <td>542.1646</td>\n",
       "    </tr>\n",
       "    <tr>\n",
       "      <th>12/28/2022</th>\n",
       "      <td>Watoto Fund</td>\n",
       "      <td>91658.824932</td>\n",
       "      <td>3917.195493</td>\n",
       "      <td>547.5176</td>\n",
       "      <td>547.5176</td>\n",
       "      <td>542.0424</td>\n",
       "    </tr>\n",
       "    <tr>\n",
       "      <th>12/27/2022</th>\n",
       "      <td>Watoto Fund</td>\n",
       "      <td>91692.978270</td>\n",
       "      <td>3919.103306</td>\n",
       "      <td>547.3924</td>\n",
       "      <td>547.3924</td>\n",
       "      <td>541.9184</td>\n",
       "    </tr>\n",
       "    <tr>\n",
       "      <th>12/23/2022</th>\n",
       "      <td>Watoto Fund</td>\n",
       "      <td>91479.476693</td>\n",
       "      <td>3911.736539</td>\n",
       "      <td>546.9003</td>\n",
       "      <td>546.9003</td>\n",
       "      <td>541.4313</td>\n",
       "    </tr>\n",
       "  </tbody>\n",
       "</table>\n",
       "</div>"
      ],
      "text/plain": [
       "             Scheme Name  Net Asset Value  Outstanding Number of Units  \\\n",
       "Date Valued                                                              \n",
       "12/30/2022   Watoto Fund     91798.312065                  3921.519565   \n",
       "12/29/2022   Watoto Fund     91714.161600                  3919.118842   \n",
       "12/28/2022   Watoto Fund     91658.824932                  3917.195493   \n",
       "12/27/2022   Watoto Fund     91692.978270                  3919.103306   \n",
       "12/23/2022   Watoto Fund     91479.476693                  3911.736539   \n",
       "\n",
       "             Nav Per Unit  Sale Price per Unit  Repurchase Price/Unit  \n",
       "Date Valued                                                            \n",
       "12/30/2022       547.9748             547.9748               542.4951  \n",
       "12/29/2022       547.6410             547.6410               542.1646  \n",
       "12/28/2022       547.5176             547.5176               542.0424  \n",
       "12/27/2022       547.3924             547.3924               541.9184  \n",
       "12/23/2022       546.9003             546.9003               541.4313  "
      ]
     },
     "execution_count": 87,
     "metadata": {},
     "output_type": "execute_result"
    }
   ],
   "source": [
    "data.head()"
   ]
  },
  {
   "cell_type": "code",
   "execution_count": 88,
   "id": "9b0da8f1",
   "metadata": {},
   "outputs": [
    {
     "data": {
      "text/plain": [
       "1325"
      ]
     },
     "execution_count": 88,
     "metadata": {},
     "output_type": "execute_result"
    }
   ],
   "source": [
    "df=data.filter(['Net Asset Value'])\n",
    "dataset=df.values\n",
    "training_data_len=math.ceil(len(dataset)*.8)\n",
    "training_data_len"
   ]
  },
  {
   "cell_type": "code",
   "execution_count": 89,
   "id": "72272a68",
   "metadata": {},
   "outputs": [
    {
     "data": {
      "text/html": [
       "<div>\n",
       "<style scoped>\n",
       "    .dataframe tbody tr th:only-of-type {\n",
       "        vertical-align: middle;\n",
       "    }\n",
       "\n",
       "    .dataframe tbody tr th {\n",
       "        vertical-align: top;\n",
       "    }\n",
       "\n",
       "    .dataframe thead th {\n",
       "        text-align: right;\n",
       "    }\n",
       "</style>\n",
       "<table border=\"1\" class=\"dataframe\">\n",
       "  <thead>\n",
       "    <tr style=\"text-align: right;\">\n",
       "      <th></th>\n",
       "      <th>Net Asset Value</th>\n",
       "    </tr>\n",
       "    <tr>\n",
       "      <th>Date Valued</th>\n",
       "      <th></th>\n",
       "    </tr>\n",
       "  </thead>\n",
       "  <tbody>\n",
       "    <tr>\n",
       "      <th>12/30/2022</th>\n",
       "      <td>91798.312065</td>\n",
       "    </tr>\n",
       "    <tr>\n",
       "      <th>12/29/2022</th>\n",
       "      <td>91714.161600</td>\n",
       "    </tr>\n",
       "    <tr>\n",
       "      <th>12/28/2022</th>\n",
       "      <td>91658.824932</td>\n",
       "    </tr>\n",
       "    <tr>\n",
       "      <th>12/27/2022</th>\n",
       "      <td>91692.978270</td>\n",
       "    </tr>\n",
       "    <tr>\n",
       "      <th>12/23/2022</th>\n",
       "      <td>91479.476693</td>\n",
       "    </tr>\n",
       "  </tbody>\n",
       "</table>\n",
       "</div>"
      ],
      "text/plain": [
       "             Net Asset Value\n",
       "Date Valued                 \n",
       "12/30/2022      91798.312065\n",
       "12/29/2022      91714.161600\n",
       "12/28/2022      91658.824932\n",
       "12/27/2022      91692.978270\n",
       "12/23/2022      91479.476693"
      ]
     },
     "execution_count": 89,
     "metadata": {},
     "output_type": "execute_result"
    }
   ],
   "source": [
    "df.head()"
   ]
  },
  {
   "cell_type": "code",
   "execution_count": 90,
   "id": "e0ccf1e9",
   "metadata": {},
   "outputs": [
    {
     "data": {
      "text/plain": [
       "array([[0.45715773],\n",
       "       [0.4561081 ],\n",
       "       [0.45541787],\n",
       "       ...,\n",
       "       [0.02718369],\n",
       "       [0.02715539],\n",
       "       [0.02965958]])"
      ]
     },
     "execution_count": 90,
     "metadata": {},
     "output_type": "execute_result"
    }
   ],
   "source": [
    "## scale the data\n",
    "scaler= MinMaxScaler(feature_range=(0,1))\n",
    "scaled_data=scaler.fit_transform(dataset)\n",
    "scaled_data"
   ]
  },
  {
   "cell_type": "code",
   "execution_count": 91,
   "id": "2f962860",
   "metadata": {},
   "outputs": [
    {
     "name": "stdout",
     "output_type": "stream",
     "text": [
      "[[0.45715773]\n",
      " [0.4561081 ]\n",
      " [0.45541787]\n",
      " [0.45584387]\n",
      " [0.4531808 ]]\n"
     ]
    }
   ],
   "source": [
    "#create the training set\n",
    "#create the scaled training set\n",
    "train_data=scaled_data[0:training_data_len, :]\n",
    "print(train_data[:5])"
   ]
  },
  {
   "cell_type": "code",
   "execution_count": 92,
   "id": "aeb8953d",
   "metadata": {},
   "outputs": [
    {
     "name": "stdout",
     "output_type": "stream",
     "text": [
      "[array([0.45715773, 0.4561081 , 0.45541787, 0.45584387, 0.4531808 ,\n",
      "       0.45249479, 0.45026237, 0.44904288, 0.44737235, 0.44653525,\n",
      "       0.44714929, 0.44627751, 0.44594962, 0.44386369, 0.44388712,\n",
      "       0.44145504, 0.43812168, 0.43769102, 0.43770944, 0.43695758,\n",
      "       0.43610882, 0.43216965, 0.43136576, 0.4299723 , 0.42914833,\n",
      "       0.42825459, 0.42803832, 0.42763971, 0.4270383 , 0.42341187,\n",
      "       0.42371426, 0.42326175, 0.42243231, 0.4215395 , 0.42021854,\n",
      "       0.41900057, 0.41795002, 0.41714065, 0.41335357, 0.41324827,\n",
      "       0.41345368, 0.41478339, 0.413136  , 0.4105871 , 0.38244682,\n",
      "       0.33194319, 0.33066792, 0.32939001, 0.32858268, 0.32723826,\n",
      "       0.32644314, 0.32634705, 0.32610578, 0.32458421, 0.32355811,\n",
      "       0.32308571, 0.32285993, 1.        , 0.32071087, 0.31965154])]\n",
      "[0.3189234907422196]\n"
     ]
    }
   ],
   "source": [
    "#split the data into x_train and y_train\n",
    "x_train=[]\n",
    "y_train=[]\n",
    "for i in range(60,len(train_data)):\n",
    "    x_train.append(train_data[i-60:i,0])\n",
    "    y_train.append(train_data[i,0])\n",
    "    if i<=60:\n",
    "        print(x_train)\n",
    "        print(y_train)"
   ]
  },
  {
   "cell_type": "code",
   "execution_count": 93,
   "id": "3b71d2ba",
   "metadata": {},
   "outputs": [],
   "source": [
    "#convert the x_train and y_train into numpy array\n",
    "x_train,y_train=np.array(x_train),np.array(y_train)"
   ]
  },
  {
   "cell_type": "code",
   "execution_count": 94,
   "id": "9bde4dd1",
   "metadata": {},
   "outputs": [
    {
     "data": {
      "text/plain": [
       "(1265, 60, 1)"
      ]
     },
     "execution_count": 94,
     "metadata": {},
     "output_type": "execute_result"
    }
   ],
   "source": [
    "#reshape the data\n",
    "x_train=np.reshape(x_train,(x_train.shape[0],x_train.shape[1],1))\n",
    "x_train.shape"
   ]
  },
  {
   "cell_type": "code",
   "execution_count": 95,
   "id": "c7d045e0",
   "metadata": {},
   "outputs": [],
   "source": [
    "#buld LSTM model\n",
    "model=Sequential()\n",
    "model.add(LSTM(units=50, return_sequences=True, input_shape=(60, 1)))\n",
    "model.add(LSTM(50,return_sequences=False))\n",
    "model.add(Dense(25))\n",
    "model.add(Dense(1))"
   ]
  },
  {
   "cell_type": "code",
   "execution_count": 96,
   "id": "43c68f4c",
   "metadata": {},
   "outputs": [],
   "source": [
    "#complite the model\n",
    "model.compile(loss='mean_squared_error', optimizer='adam')"
   ]
  },
  {
   "cell_type": "code",
   "execution_count": 97,
   "id": "4e349df0",
   "metadata": {},
   "outputs": [
    {
     "name": "stdout",
     "output_type": "stream",
     "text": [
      "Epoch 1/2\n",
      "1265/1265 [==============================] - 58s 42ms/step - loss: 2.0537e-04\n",
      "Epoch 2/2\n",
      "1265/1265 [==============================] - 47s 37ms/step - loss: 1.2613e-04\n"
     ]
    },
    {
     "data": {
      "text/plain": [
       "<keras.src.callbacks.History at 0x26fd4e37cd0>"
      ]
     },
     "execution_count": 97,
     "metadata": {},
     "output_type": "execute_result"
    }
   ],
   "source": [
    "#train the model\n",
    "model.fit(x_train, y_train, batch_size=1, epochs=2)"
   ]
  },
  {
   "cell_type": "code",
   "execution_count": 98,
   "id": "cd4f5fd8",
   "metadata": {},
   "outputs": [],
   "source": [
    "# #create the testing dataset\n",
    "test_data=scaled_data[training_data_len-60:,:]\n",
    "x_test=[]\n",
    "y_test=dataset[training_data_len:,:]\n",
    "for i in range(60,len(test_data)):\n",
    "    x_test.append(test_data[i-60:i,0])"
   ]
  },
  {
   "cell_type": "code",
   "execution_count": 99,
   "id": "49485650",
   "metadata": {},
   "outputs": [],
   "source": [
    "#convert the data to numpy array\n",
    "x_test=np.array(x_test)"
   ]
  },
  {
   "cell_type": "code",
   "execution_count": 100,
   "id": "3be917f8",
   "metadata": {},
   "outputs": [
    {
     "data": {
      "text/plain": [
       "(331, 60, 1)"
      ]
     },
     "execution_count": 100,
     "metadata": {},
     "output_type": "execute_result"
    }
   ],
   "source": [
    "#reshape the data\n",
    "x_test=np.reshape(x_test,(x_test.shape[0],x_test.shape[1],1))\n",
    "x_test.shape"
   ]
  },
  {
   "cell_type": "code",
   "execution_count": 101,
   "id": "1b455f1e",
   "metadata": {},
   "outputs": [
    {
     "name": "stdout",
     "output_type": "stream",
     "text": [
      "11/11 [==============================] - 1s 21ms/step\n"
     ]
    },
    {
     "data": {
      "text/plain": [
       "array([[59326.47 ],\n",
       "       [59323.82 ],\n",
       "       [59321.12 ],\n",
       "       [59318.14 ],\n",
       "       [59315.207],\n",
       "       [59312.477],\n",
       "       [59310.047],\n",
       "       [59298.086],\n",
       "       [59281.83 ],\n",
       "       [59263.84 ],\n",
       "       [59246.113],\n",
       "       [59227.46 ],\n",
       "       [59209.562],\n",
       "       [59195.453],\n",
       "       [59184.34 ],\n",
       "       [59174.92 ],\n",
       "       [59167.074],\n",
       "       [59159.125],\n",
       "       [59151.68 ],\n",
       "       [59144.598],\n",
       "       [59138.21 ],\n",
       "       [59134.312],\n",
       "       [59132.027],\n",
       "       [59123.797],\n",
       "       [59112.95 ],\n",
       "       [59099.902],\n",
       "       [59086.55 ],\n",
       "       [59072.73 ],\n",
       "       [59059.582],\n",
       "       [59047.992],\n",
       "       [59038.03 ],\n",
       "       [59028.074],\n",
       "       [59018.816],\n",
       "       [59010.   ],\n",
       "       [59002.03 ],\n",
       "       [58991.79 ],\n",
       "       [58981.035],\n",
       "       [58975.234],\n",
       "       [58972.48 ],\n",
       "       [58971.098],\n",
       "       [58970.566],\n",
       "       [58969.793],\n",
       "       [58968.95 ],\n",
       "       [58965.387],\n",
       "       [58960.605],\n",
       "       [58953.3  ],\n",
       "       [58945.12 ],\n",
       "       [58935.76 ],\n",
       "       [58926.402],\n",
       "       [58917.312],\n",
       "       [58908.99 ],\n",
       "       [58917.438],\n",
       "       [58934.324],\n",
       "       [58955.434],\n",
       "       [58977.438],\n",
       "       [58997.293],\n",
       "       [59014.68 ],\n",
       "       [59026.64 ],\n",
       "       [59034.863],\n",
       "       [59040.098],\n",
       "       [59043.34 ],\n",
       "       [59044.7  ],\n",
       "       [59044.934],\n",
       "       [59043.95 ],\n",
       "       [59042.36 ],\n",
       "       [59040.066],\n",
       "       [59037.53 ],\n",
       "       [59028.094],\n",
       "       [59015.586],\n",
       "       [59001.688],\n",
       "       [58987.965],\n",
       "       [58976.387],\n",
       "       [58966.742],\n",
       "       [58958.227],\n",
       "       [58950.91 ],\n",
       "       [58947.246],\n",
       "       [58945.812],\n",
       "       [58945.047],\n",
       "       [58944.723],\n",
       "       [58944.277],\n",
       "       [58943.816],\n",
       "       [58935.355],\n",
       "       [58923.188],\n",
       "       [58909.375],\n",
       "       [58895.605],\n",
       "       [58878.535],\n",
       "       [58860.85 ],\n",
       "       [58847.96 ],\n",
       "       [58838.51 ],\n",
       "       [58824.605],\n",
       "       [58809.266],\n",
       "       [58791.48 ],\n",
       "       [58773.59 ],\n",
       "       [58756.336],\n",
       "       [58740.613],\n",
       "       [58715.742],\n",
       "       [58687.664],\n",
       "       [58658.816],\n",
       "       [58631.508],\n",
       "       [58616.523],\n",
       "       [58609.184],\n",
       "       [58606.07 ],\n",
       "       [58605.504],\n",
       "       [58604.59 ],\n",
       "       [58603.6  ],\n",
       "       [58602.984],\n",
       "       [58602.63 ],\n",
       "       [58601.594],\n",
       "       [58600.27 ],\n",
       "       [58597.688],\n",
       "       [58594.605],\n",
       "       [58608.727],\n",
       "       [58631.12 ],\n",
       "       [58655.586],\n",
       "       [58679.555],\n",
       "       [58700.55 ],\n",
       "       [58718.543],\n",
       "       [58732.797],\n",
       "       [58744.066],\n",
       "       [58751.832],\n",
       "       [58757.156],\n",
       "       [58760.35 ],\n",
       "       [58762.15 ],\n",
       "       [58766.047],\n",
       "       [58770.785],\n",
       "       [58772.668],\n",
       "       [58772.887],\n",
       "       [58771.76 ],\n",
       "       [58769.984],\n",
       "       [58761.633],\n",
       "       [58750.3  ],\n",
       "       [58731.82 ],\n",
       "       [58710.723],\n",
       "       [58689.62 ],\n",
       "       [58669.41 ],\n",
       "       [58651.04 ],\n",
       "       [58635.94 ],\n",
       "       [58623.652],\n",
       "       [58612.914],\n",
       "       [58603.766],\n",
       "       [58593.848],\n",
       "       [58584.207],\n",
       "       [58574.844],\n",
       "       [58566.273],\n",
       "       [58557.844],\n",
       "       [58550.074],\n",
       "       [58549.984],\n",
       "       [58554.043],\n",
       "       [58558.113],\n",
       "       [58561.35 ],\n",
       "       [58563.953],\n",
       "       [58570.26 ],\n",
       "       [58578.14 ],\n",
       "       [58584.03 ],\n",
       "       [58588.473],\n",
       "       [58570.81 ],\n",
       "       [58542.465],\n",
       "       [58509.324],\n",
       "       [58475.777],\n",
       "       [58449.29 ],\n",
       "       [58428.355],\n",
       "       [58410.46 ],\n",
       "       [58395.445],\n",
       "       [58381.77 ],\n",
       "       [58369.78 ],\n",
       "       [58358.96 ],\n",
       "       [58349.54 ],\n",
       "       [58321.234],\n",
       "       [58284.715],\n",
       "       [58245.77 ],\n",
       "       [58208.12 ],\n",
       "       [58173.03 ],\n",
       "       [58141.695],\n",
       "       [58114.453],\n",
       "       [58091.29 ],\n",
       "       [58072.555],\n",
       "       [58057.516],\n",
       "       [58043.938],\n",
       "       [58032.117],\n",
       "       [58030.387],\n",
       "       [58034.234],\n",
       "       [58037.76 ],\n",
       "       [58040.918],\n",
       "       [58042.383],\n",
       "       [58042.848],\n",
       "       [58041.945],\n",
       "       [58040.355],\n",
       "       [58038.01 ],\n",
       "       [58035.414],\n",
       "       [58031.453],\n",
       "       [58027.02 ],\n",
       "       [58013.78 ],\n",
       "       [57996.707],\n",
       "       [57977.508],\n",
       "       [57958.445],\n",
       "       [57940.816],\n",
       "       [57925.15 ],\n",
       "       [57911.84 ],\n",
       "       [57900.715],\n",
       "       [57889.95 ],\n",
       "       [57880.125],\n",
       "       [57870.574],\n",
       "       [57861.844],\n",
       "       [57856.117],\n",
       "       [57852.42 ],\n",
       "       [57861.824],\n",
       "       [57877.66 ],\n",
       "       [57895.453],\n",
       "       [57913.14 ],\n",
       "       [57928.984],\n",
       "       [57942.78 ],\n",
       "       [57951.14 ],\n",
       "       [57955.992],\n",
       "       [57955.445],\n",
       "       [57951.984],\n",
       "       [57944.516],\n",
       "       [57935.35 ],\n",
       "       [57924.04 ],\n",
       "       [57912.312],\n",
       "       [57900.27 ],\n",
       "       [57888.863],\n",
       "       [57893.74 ],\n",
       "       [57907.05 ],\n",
       "       [57922.5  ],\n",
       "       [57938.11 ],\n",
       "       [57951.02 ],\n",
       "       [57961.637],\n",
       "       [57971.863],\n",
       "       [57981.176],\n",
       "       [57983.27 ],\n",
       "       [57981.324],\n",
       "       [57991.797],\n",
       "       [58008.203],\n",
       "       [58023.836],\n",
       "       [58037.996],\n",
       "       [58055.18 ],\n",
       "       [58072.816],\n",
       "       [58088.145],\n",
       "       [58101.188],\n",
       "       [58110.883],\n",
       "       [58118.1  ],\n",
       "       [58122.973],\n",
       "       [58126.223],\n",
       "       [58127.68 ],\n",
       "       [58128.05 ],\n",
       "       [58125.305],\n",
       "       [58121.047],\n",
       "       [58113.387],\n",
       "       [58104.395],\n",
       "       [58094.797],\n",
       "       [58085.516],\n",
       "       [58076.344],\n",
       "       [58067.855],\n",
       "       [58057.195],\n",
       "       [58046.094],\n",
       "       [58035.645],\n",
       "       [58026.242],\n",
       "       [58017.63 ],\n",
       "       [58010.03 ],\n",
       "       [58002.375],\n",
       "       [57995.223],\n",
       "       [57987.734],\n",
       "       [57980.574],\n",
       "       [57973.508],\n",
       "       [57966.977],\n",
       "       [57960.457],\n",
       "       [57954.402],\n",
       "       [57949.844],\n",
       "       [57946.41 ],\n",
       "       [57943.062],\n",
       "       [57940.004],\n",
       "       [57935.156],\n",
       "       [57929.68 ],\n",
       "       [57923.65 ],\n",
       "       [57917.727],\n",
       "       [57912.883],\n",
       "       [57908.94 ],\n",
       "       [57905.266],\n",
       "       [57900.844],\n",
       "       [57895.15 ],\n",
       "       [57890.63 ],\n",
       "       [57886.184],\n",
       "       [57879.53 ],\n",
       "       [57873.33 ],\n",
       "       [57864.312],\n",
       "       [57853.93 ],\n",
       "       [57844.613],\n",
       "       [57835.656],\n",
       "       [57825.902],\n",
       "       [57815.715],\n",
       "       [57805.44 ],\n",
       "       [57795.04 ],\n",
       "       [57784.676],\n",
       "       [57773.504],\n",
       "       [57747.5  ],\n",
       "       [57714.605],\n",
       "       [57682.465],\n",
       "       [57640.254],\n",
       "       [57592.19 ],\n",
       "       [57544.11 ],\n",
       "       [57498.93 ],\n",
       "       [57457.89 ],\n",
       "       [57420.875],\n",
       "       [57387.105],\n",
       "       [57355.33 ],\n",
       "       [57325.93 ],\n",
       "       [57302.812],\n",
       "       [57284.227],\n",
       "       [57267.957],\n",
       "       [57279.344],\n",
       "       [57304.195],\n",
       "       [57334.03 ],\n",
       "       [57364.465],\n",
       "       [57401.05 ],\n",
       "       [57437.547],\n",
       "       [57471.01 ],\n",
       "       [57497.152],\n",
       "       [57518.016],\n",
       "       [57532.36 ],\n",
       "       [57541.754],\n",
       "       [57547.57 ],\n",
       "       [57550.418],\n",
       "       [57550.957],\n",
       "       [57548.105],\n",
       "       [57552.1  ],\n",
       "       [57549.887],\n",
       "       [57545.39 ],\n",
       "       [57538.625],\n",
       "       [57532.48 ],\n",
       "       [57526.26 ],\n",
       "       [57520.29 ]], dtype=float32)"
      ]
     },
     "execution_count": 101,
     "metadata": {},
     "output_type": "execute_result"
    }
   ],
   "source": [
    "#get the model prediction\n",
    "predictions=model.predict(x_test)\n",
    "predictions=scaler.inverse_transform(predictions)\n",
    "predictions"
   ]
  },
  {
   "cell_type": "code",
   "execution_count": 102,
   "id": "426c8fea",
   "metadata": {},
   "outputs": [
    {
     "name": "stdout",
     "output_type": "stream",
     "text": [
      "Mean Squared Error (MSE): 25413.949621326647\n",
      "R-squared (R2): 0.9338567067413823\n",
      "Mean Absolute Error (MAE): 121.37945540104637\n",
      "Root Mean Squared Error (RMSE): 159.41753235239418\n"
     ]
    }
   ],
   "source": [
    "from sklearn.metrics import mean_squared_error, r2_score, mean_absolute_error\n",
    "\n",
    "# Calculate Mean Squared Error (MSE)\n",
    "mse = mean_squared_error(y_test, predictions)\n",
    "\n",
    "# Calculate R-squared (R2)\n",
    "r2 = r2_score(y_test, predictions)\n",
    "\n",
    "# Calculate Mean Absolute Error (MAE)\n",
    "mae = mean_absolute_error(y_test, predictions)\n",
    "\n",
    "# Calculate Mean Absolute Percentage Error (MAPE)\n",
    "mape = np.mean(np.abs((y_test - predictions) / y_test)) * 100\n",
    "\n",
    "# Calculate Root Mean Squared Error (RMSE)\n",
    "rmse = np.sqrt(mse)\n",
    "\n",
    "print(f\"Mean Squared Error (MSE): {mse}\")\n",
    "print(f\"R-squared (R2): {r2}\")\n",
    "print(f\"Mean Absolute Error (MAE): {mae}\")\n",
    "# print(f\"Mean Absolute Percentage Error (MAPE): {mape}%\")\n",
    "print(f\"Root Mean Squared Error (RMSE): {rmse}\")\n"
   ]
  },
  {
   "cell_type": "code",
   "execution_count": 103,
   "id": "184d1b2f",
   "metadata": {
    "scrolled": true
   },
   "outputs": [
    {
     "name": "stderr",
     "output_type": "stream",
     "text": [
      "C:\\Users\\roma\\AppData\\Local\\Temp\\ipykernel_8516\\3983594056.py:3: SettingWithCopyWarning: \n",
      "A value is trying to be set on a copy of a slice from a DataFrame.\n",
      "Try using .loc[row_indexer,col_indexer] = value instead\n",
      "\n",
      "See the caveats in the documentation: https://pandas.pydata.org/pandas-docs/stable/user_guide/indexing.html#returning-a-view-versus-a-copy\n",
      "  valid['Predictions'] = predictions\n"
     ]
    }
   ],
   "source": [
    "train = df[:training_data_len]\n",
    "valid = df[training_data_len:]\n",
    "valid['Predictions'] = predictions"
   ]
  },
  {
   "cell_type": "code",
   "execution_count": 104,
   "id": "1b212334",
   "metadata": {},
   "outputs": [
    {
     "data": {
      "image/png": "[encoded data removed]",
      "text/plain": [
       "<Figure size 1200x600 with 1 Axes>"
      ]
     },
     "metadata": {},
     "output_type": "display_data"
    }
   ],
   "source": [
    "plt.figure(figsize=(12, 6))\n",
    "plt.title('Net Asset Value vs. Predictions')\n",
    "plt.xlabel('Time')\n",
    "plt.ylabel('Net Asset Value')\n",
    "plt.plot(train['Net Asset Value'], label='Training Data')\n",
    "plt.plot(valid['Net Asset Value'], label='Actual Data')\n",
    "plt.plot(valid['Predictions'], label='Predictions', linestyle='--')\n",
    "plt.legend()\n",
    "plt.show()"
   ]
  },
  {
   "cell_type": "code",
   "execution_count": 105,
   "id": "3b281bfa",
   "metadata": {},
   "outputs": [
    {
     "data": {
      "text/html": [
       "<div>\n",
       "<style scoped>\n",
       "    .dataframe tbody tr th:only-of-type {\n",
       "        vertical-align: middle;\n",
       "    }\n",
       "\n",
       "    .dataframe tbody tr th {\n",
       "        vertical-align: top;\n",
       "    }\n",
       "\n",
       "    .dataframe thead th {\n",
       "        text-align: right;\n",
       "    }\n",
       "</style>\n",
       "<table border=\"1\" class=\"dataframe\">\n",
       "  <thead>\n",
       "    <tr style=\"text-align: right;\">\n",
       "      <th></th>\n",
       "      <th>Net Asset Value</th>\n",
       "    </tr>\n",
       "    <tr>\n",
       "      <th>Date Valued</th>\n",
       "      <th></th>\n",
       "    </tr>\n",
       "  </thead>\n",
       "  <tbody>\n",
       "    <tr>\n",
       "      <th>12/30/2022</th>\n",
       "      <td>91798.312065</td>\n",
       "    </tr>\n",
       "    <tr>\n",
       "      <th>12/29/2022</th>\n",
       "      <td>91714.161600</td>\n",
       "    </tr>\n",
       "    <tr>\n",
       "      <th>12/28/2022</th>\n",
       "      <td>91658.824932</td>\n",
       "    </tr>\n",
       "    <tr>\n",
       "      <th>12/27/2022</th>\n",
       "      <td>91692.978270</td>\n",
       "    </tr>\n",
       "    <tr>\n",
       "      <th>12/23/2022</th>\n",
       "      <td>91479.476693</td>\n",
       "    </tr>\n",
       "    <tr>\n",
       "      <th>...</th>\n",
       "      <td>...</td>\n",
       "    </tr>\n",
       "    <tr>\n",
       "      <th>10/23/2017</th>\n",
       "      <td>59416.473027</td>\n",
       "    </tr>\n",
       "    <tr>\n",
       "      <th>10/20/2017</th>\n",
       "      <td>59401.037853</td>\n",
       "    </tr>\n",
       "    <tr>\n",
       "      <th>10/20/2017</th>\n",
       "      <td>59401.037853</td>\n",
       "    </tr>\n",
       "    <tr>\n",
       "      <th>10/19/2017</th>\n",
       "      <td>59393.942957</td>\n",
       "    </tr>\n",
       "    <tr>\n",
       "      <th>10/19/2017</th>\n",
       "      <td>59393.942957</td>\n",
       "    </tr>\n",
       "  </tbody>\n",
       "</table>\n",
       "<p>1325 rows × 1 columns</p>\n",
       "</div>"
      ],
      "text/plain": [
       "             Net Asset Value\n",
       "Date Valued                 \n",
       "12/30/2022      91798.312065\n",
       "12/29/2022      91714.161600\n",
       "12/28/2022      91658.824932\n",
       "12/27/2022      91692.978270\n",
       "12/23/2022      91479.476693\n",
       "...                      ...\n",
       "10/23/2017      59416.473027\n",
       "10/20/2017      59401.037853\n",
       "10/20/2017      59401.037853\n",
       "10/19/2017      59393.942957\n",
       "10/19/2017      59393.942957\n",
       "\n",
       "[1325 rows x 1 columns]"
      ]
     },
     "execution_count": 105,
     "metadata": {},
     "output_type": "execute_result"
    }
   ],
   "source": [
    "train"
   ]
  },
  {
   "cell_type": "code",
   "execution_count": 106,
   "id": "7d3fd746",
   "metadata": {},
   "outputs": [
    {
     "data": {
      "image/png": "[encoded data removed]",
      "text/plain": [
       "<Figure size 1200x600 with 1 Axes>"
      ]
     },
     "metadata": {},
     "output_type": "display_data"
    }
   ],
   "source": [
    "import matplotlib.pyplot as plt\n",
    "\n",
    "# Assuming 'valid' is a DataFrame containing 'Net Asset Value' and 'Predictions' columns\n",
    "plt.figure(figsize=(12, 6))\n",
    "plt.title('Actual vs. Predicted Net Asset Value')\n",
    "plt.xlabel('Time')\n",
    "plt.ylabel('Net Asset Value')\n",
    "\n",
    "# Plot the actual 'Net Asset Value' in blue\n",
    "plt.plot(valid['Net Asset Value'], label='Actual NAV', color='blue')\n",
    "\n",
    "# Plot the 'Predictions' in red\n",
    "plt.plot(valid['Predictions'], label='Predicted NAV', color='red')\n",
    "\n",
    "plt.legend()\n",
    "plt.show()\n"
   ]
  },
  {
   "cell_type": "code",
   "execution_count": 107,
   "id": "3e720485",
   "metadata": {},
   "outputs": [
    {
     "data": {
      "text/html": [
       "<div>\n",
       "<style scoped>\n",
       "    .dataframe tbody tr th:only-of-type {\n",
       "        vertical-align: middle;\n",
       "    }\n",
       "\n",
       "    .dataframe tbody tr th {\n",
       "        vertical-align: top;\n",
       "    }\n",
       "\n",
       "    .dataframe thead th {\n",
       "        text-align: right;\n",
       "    }\n",
       "</style>\n",
       "<table border=\"1\" class=\"dataframe\">\n",
       "  <thead>\n",
       "    <tr style=\"text-align: right;\">\n",
       "      <th></th>\n",
       "      <th>Net Asset Value</th>\n",
       "      <th>Predictions</th>\n",
       "    </tr>\n",
       "    <tr>\n",
       "      <th>Date Valued</th>\n",
       "      <th></th>\n",
       "      <th></th>\n",
       "    </tr>\n",
       "  </thead>\n",
       "  <tbody>\n",
       "    <tr>\n",
       "      <th>10/18/2017</th>\n",
       "      <td>59387.111405</td>\n",
       "      <td>59326.468750</td>\n",
       "    </tr>\n",
       "    <tr>\n",
       "      <th>10/18/2017</th>\n",
       "      <td>59387.111405</td>\n",
       "      <td>59323.820312</td>\n",
       "    </tr>\n",
       "    <tr>\n",
       "      <th>10/17/2017</th>\n",
       "      <td>59379.927543</td>\n",
       "      <td>59321.121094</td>\n",
       "    </tr>\n",
       "    <tr>\n",
       "      <th>10/17/2017</th>\n",
       "      <td>59379.927543</td>\n",
       "      <td>59318.140625</td>\n",
       "    </tr>\n",
       "    <tr>\n",
       "      <th>10/16/2017</th>\n",
       "      <td>59379.623475</td>\n",
       "      <td>59315.207031</td>\n",
       "    </tr>\n",
       "    <tr>\n",
       "      <th>...</th>\n",
       "      <td>...</td>\n",
       "      <td>...</td>\n",
       "    </tr>\n",
       "    <tr>\n",
       "      <th>1/6/2017</th>\n",
       "      <td>57316.991870</td>\n",
       "      <td>57545.390625</td>\n",
       "    </tr>\n",
       "    <tr>\n",
       "      <th>1/5/2017</th>\n",
       "      <td>57340.025105</td>\n",
       "      <td>57538.625000</td>\n",
       "    </tr>\n",
       "    <tr>\n",
       "      <th>1/4/2017</th>\n",
       "      <td>57326.818401</td>\n",
       "      <td>57532.480469</td>\n",
       "    </tr>\n",
       "    <tr>\n",
       "      <th>1/3/2017</th>\n",
       "      <td>57324.550107</td>\n",
       "      <td>57526.261719</td>\n",
       "    </tr>\n",
       "    <tr>\n",
       "      <th>1/2/2017</th>\n",
       "      <td>57525.313472</td>\n",
       "      <td>57520.289062</td>\n",
       "    </tr>\n",
       "  </tbody>\n",
       "</table>\n",
       "<p>331 rows × 2 columns</p>\n",
       "</div>"
      ],
      "text/plain": [
       "             Net Asset Value   Predictions\n",
       "Date Valued                               \n",
       "10/18/2017      59387.111405  59326.468750\n",
       "10/18/2017      59387.111405  59323.820312\n",
       "10/17/2017      59379.927543  59321.121094\n",
       "10/17/2017      59379.927543  59318.140625\n",
       "10/16/2017      59379.623475  59315.207031\n",
       "...                      ...           ...\n",
       "1/6/2017        57316.991870  57545.390625\n",
       "1/5/2017        57340.025105  57538.625000\n",
       "1/4/2017        57326.818401  57532.480469\n",
       "1/3/2017        57324.550107  57526.261719\n",
       "1/2/2017        57525.313472  57520.289062\n",
       "\n",
       "[331 rows x 2 columns]"
      ]
     },
     "execution_count": 107,
     "metadata": {},
     "output_type": "execute_result"
    }
   ],
   "source": [
    "valid"
   ]
  },
  {
   "cell_type": "code",
   "execution_count": 108,
   "id": "822d2399",
   "metadata": {},
   "outputs": [],
   "source": [
    "from sklearn.ensemble import RandomForestRegressor\n",
    "features = ['Outstanding Number of Units', 'Nav Per Unit', 'Sale Price per Unit', 'Repurchase Price/Unit']\n",
    "target = 'Net Asset Value'\n",
    "\n",
    "X = data[features]\n",
    "y = data[target]\n",
    "\n",
    "# Initialize and train the Random Forest model\n",
    "rf_model = RandomForestRegressor(n_estimators=100, random_state=0)\n",
    "rf_model.fit(X, y)\n",
    "\n",
    "# Make predictions using the Random Forest model\n",
    "rf_predictions = rf_model.predict(X)\n"
   ]
  },
  {
   "cell_type": "code",
   "execution_count": 109,
   "id": "39c2270a",
   "metadata": {},
   "outputs": [
    {
     "name": "stdout",
     "output_type": "stream",
     "text": [
      "Root Mean Squared Error (RMSE): 674.3182120865922\n",
      "Mean Squared Error (MSE): 454705.0511516584\n",
      "R-squared (R2): 0.9924734109539816\n"
     ]
    }
   ],
   "source": [
    "from sklearn.metrics import mean_squared_error, r2_score\n",
    "\n",
    "# Calculate predictions using the Random Forest model\n",
    "rf_predictions = rf_model.predict(X)\n",
    "\n",
    "# Calculate RMSE\n",
    "rmse = mean_squared_error(y, rf_predictions, squared=False)\n",
    "\n",
    "# Calculate MSE\n",
    "mse = mean_squared_error(y, rf_predictions)\n",
    "\n",
    "# Calculate R-squared (R2)\n",
    "r2 = r2_score(y, rf_predictions)\n",
    "\n",
    "print(f\"Root Mean Squared Error (RMSE): {rmse}\")\n",
    "print(f\"Mean Squared Error (MSE): {mse}\")\n",
    "print(f\"R-squared (R2): {r2}\")"
   ]
  },
  {
   "cell_type": "code",
   "execution_count": 110,
   "id": "4fc49e23",
   "metadata": {},
   "outputs": [
    {
     "data": {
      "image/png": "[encoded data removed]",
      "text/plain": [
       "<Figure size 1000x600 with 1 Axes>"
      ]
     },
     "metadata": {},
     "output_type": "display_data"
    }
   ],
   "source": [
    "\n",
    "rf_predictions = rf_model.predict(X)\n",
    "\n",
    "# Create a DataFrame with actual and predicted values\n",
    "results = pd.DataFrame({'Actual': y, 'Predicted': rf_predictions})\n",
    "\n",
    "# Plot actual and predicted values on the same axis\n",
    "plt.figure(figsize=(10, 6))\n",
    "plt.plot(results.index, results['Actual'], label='Actual', marker='o', linestyle='-', color='blue')\n",
    "plt.plot(results.index, results['Predicted'], label='Predicted', marker='x', linestyle='--', color='green')\n",
    "plt.xlabel('Data Point')\n",
    "plt.ylabel('Values')\n",
    "plt.title('Actual vs. Predicted Values (Random Forest)')\n",
    "plt.grid(True)\n",
    "plt.legend()\n",
    "plt.show()\n"
   ]
  },
  {
   "cell_type": "code",
   "execution_count": null,
   "id": "0852e36c",
   "metadata": {},
   "outputs": [],
   "source": []
  }
 ],
 "metadata": {
  "kernelspec": {
   "display_name": "Python 3 (ipykernel)",
   "language": "python",
   "name": "python3"
  },
  "language_info": {
   "codemirror_mode": {
    "name": "ipython",
    "version": 3
   },
   "file_extension": ".py",
   "mimetype": "text/x-python",
   "name": "python",
   "nbconvert_exporter": "python",
   "pygments_lexer": "ipython3",
   "version": "3.11.2"
  }
 },
 "nbformat": 4,
 "nbformat_minor": 5
}
